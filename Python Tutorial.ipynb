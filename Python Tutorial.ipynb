{
 "cells": [
  {
   "cell_type": "markdown",
   "metadata": {},
   "source": [
    "# Python Tutorial <a class='anchor' id='top'></a>\n",
    "Note: this tutorial uses Jupyter, which is a tool built in to Anaconda. It lets you write text and run code in the same document. I'll be writing code here, which you can run here, and also try inside the Python *interpreter*, which is also included in Anaconda.\n",
    "\n",
    "(Anaconda is just a big bundle of tools that most Python people want to use.)\n",
    "\n",
    "You can give feedback for this tutorial [here](https://forms.gle/FZYhG4TpXzTByDNg8). I would *very* much appreciate feedback, particularly on any sources of confusion.\n",
    "\n",
    "\n",
    "## Index\n",
    "* [Part 1: Basic Python](#part-1)\n",
    "* [Part 2: Python Details](#part-2)\n",
    "* [Part 3: Basic Engineering](#part-3)\n",
    "\n",
    "\n",
    "## Installation\n",
    "First you need to install the tools we're going to be using.\n",
    "\n",
    "### Windows\n",
    "* A [Github](www.github.com) account. All your code gets stored here.\n",
    "* [Git for Windows](https://github.com/git-for-windows/git/releases/download/v2.26.2.windows.1/Git-2.26.2-64-bit.exe). You need this to interact with Github\n",
    "* [vscode](https://code.visualstudio.com/docs/?dv=win64user). You'll use this to write code you want to save.\n",
    "\n",
    "### Mac\n",
    "* A [Github](www.github.com) account. All your code gets stored here.\n",
    "* The `git` command line tool. I think you need to install it with `brew`\n",
    "\n",
    "### Linux\n",
    "* A [Github](www.github.com) account. All your code gets stored here.\n",
    "* The `git` command line tool. It's probably already installed, but if not you can install it with `sudo apt install git` (or `sudo yum install git` if you're using weird Linux)\n",
    "\n",
    "## Some notes\n",
    "The main thing to note: I *don't* expect to be well-calibrated on the difficulty of the exercises. I learned to program almost 10 years ago: I am not going to be good at assessing the difficulty of exercises for beginners. If you're having trouble with an exercise this is *my* fault and you shouldn't get disheartened."
   ]
  },
  {
   "cell_type": "markdown",
   "metadata": {},
   "source": [
    "# Basic Python <a class='anchor' id='part-1'></a>\n",
    "[Back to top](#top)\n",
    "* [Creating Data](#creating-data-1)\n",
    "* [Data Manipulation](#data-manipulation-1)\n",
    "* [Functions](#functions-1)\n",
    "* [Control Flow](#control-flow-1)\n",
    "* [Modules/Libraries](#libraries-1)\n",
    "* [Storing Your Code](#storing-code-1)\n",
    "* [Basic Scripting](#basic-scripting-1)\n",
    "\n",
    "Open the Anaconda Prompt tool. Type `python` and hit Enter (this runs the Python interpreter). Write the code into the prompt (one line at a time) as we go.\n",
    "\n",
    "Note that if you see a \"#\" inside one of the code portions, that's a **comment**. It's not actually part of the code, it's just there to provide information to you. *Don't* write that into the prompt (it won't break anything, it just won't do anything because Python ignores comments)"
   ]
  },
  {
   "cell_type": "markdown",
   "metadata": {},
   "source": [
    "## Creating Data <a class='anchor' id='creating-data-1'></a>\n",
    "[Back to top](#part-1)\n",
    "\n",
    "The most basic coding task is storing data."
   ]
  },
  {
   "cell_type": "code",
   "execution_count": 1,
   "metadata": {
    "collapsed": true
   },
   "outputs": [],
   "source": [
    "# Storing an integer (an integer is a number without a decimal part, in case you don't know)\n",
    "x = 0\n",
    "# Storing a decimal (which we call a \"floating point number\" because of some technical details of \n",
    "# how they're stored in the machine)\n",
    "y = 1.1\n",
    "# Storing text (which we call a \"string\" for dumb historical reasons)\n",
    "z = \"I tell you, someone will remember us, in the future\"\n",
    "# Storing a \"boolean\" value, aka a true or false value. (Named after the logician George Boole)\n",
    "a = True\n",
    "b = False"
   ]
  },
  {
   "cell_type": "markdown",
   "metadata": {},
   "source": [
    "If you want to see the value of stored data, you use the `print` *function* (we'll get to what functions actually are later)"
   ]
  },
  {
   "cell_type": "code",
   "execution_count": 2,
   "metadata": {},
   "outputs": [
    {
     "name": "stdout",
     "output_type": "stream",
     "text": [
      "0\n",
      "1.1\n"
     ]
    }
   ],
   "source": [
    "# This will put 0 onto the screen of the prompt\n",
    "print(x)\n",
    "# This will put(1.1)\n",
    "print(y)"
   ]
  },
  {
   "cell_type": "markdown",
   "metadata": {},
   "source": [
    "Print out the other variables you created as well.\n",
    "\n",
    "We can also store more complicated data made up of smaller pieces of data. These are called **data structures**"
   ]
  },
  {
   "cell_type": "markdown",
   "metadata": {},
   "source": [
    "### Lists\n",
    "[Back to top](#creating-data-1)\n",
    "\n",
    "Lists are ways of arranging data in a sequence:"
   ]
  },
  {
   "cell_type": "code",
   "execution_count": 3,
   "metadata": {
    "collapsed": true
   },
   "outputs": [],
   "source": [
    "c = [2, 3, 4]\n",
    "a_list = [x, y, z]"
   ]
  },
  {
   "cell_type": "markdown",
   "metadata": {},
   "source": [
    "Try printing both of these out.\n",
    "\n",
    "You can also access the individual elements of a list (note that we start counting from 0):"
   ]
  },
  {
   "cell_type": "code",
   "execution_count": 4,
   "metadata": {},
   "outputs": [
    {
     "name": "stdout",
     "output_type": "stream",
     "text": [
      "2\n",
      "3\n",
      "4\n",
      "2\n"
     ]
    }
   ],
   "source": [
    "# This will print 2\n",
    "print(c[0])\n",
    "# This will print 3\n",
    "print(c[1])\n",
    "# This will print 4\n",
    "print(c[2])\n",
    "# This will print 2 (because x is 0)\n",
    "print(c[x])"
   ]
  },
  {
   "cell_type": "markdown",
   "metadata": {},
   "source": [
    "You can also create an empty list that doesn't contain anything:"
   ]
  },
  {
   "cell_type": "code",
   "execution_count": 5,
   "metadata": {
    "collapsed": true
   },
   "outputs": [],
   "source": [
    "x = []"
   ]
  },
  {
   "cell_type": "markdown",
   "metadata": {},
   "source": [
    "### Dictionaries\n",
    "[Back to top](#creating-data-1)\n",
    "\n",
    "There are also *maps*, which Python calls *dictionaries* (I'll use the terms interchangeably). They store a map from one piece of data to another:"
   ]
  },
  {
   "cell_type": "code",
   "execution_count": 6,
   "metadata": {},
   "outputs": [
    {
     "name": "stdout",
     "output_type": "stream",
     "text": [
      "2\n",
      "[]\n",
      "here's a random string\n"
     ]
    }
   ],
   "source": [
    "# Try printing it out\n",
    "m = {\n",
    "    1: 2,\n",
    "    2: x,\n",
    "    \"a\": \"here's a random string\"\n",
    "}\n",
    "# You can access individual elements in a similar way\n",
    "# This will print 2\n",
    "print(m[1])\n",
    "# This will print 0 (because x is 0)\n",
    "print(m[2])\n",
    "# This will print 'here's a random string'\n",
    "print(m[\"a\"])"
   ]
  },
  {
   "cell_type": "markdown",
   "metadata": {},
   "source": [
    "Like with lists, you can create an empty dictionary/map:"
   ]
  },
  {
   "cell_type": "code",
   "execution_count": 7,
   "metadata": {
    "collapsed": true
   },
   "outputs": [],
   "source": [
    "x = {}"
   ]
  },
  {
   "cell_type": "markdown",
   "metadata": {},
   "source": [
    "The elements before the colons are the **keys** of the dictionary. The elements after are the **values** of the dictionary.\n",
    "\n",
    "If you try to make a dict with repeated keys, it will end up with only the last one:"
   ]
  },
  {
   "cell_type": "code",
   "execution_count": 14,
   "metadata": {},
   "outputs": [
    {
     "name": "stdout",
     "output_type": "stream",
     "text": [
      "{1: 2, 2: 4}\n"
     ]
    }
   ],
   "source": [
    "x = {1: 2, 2: 3, 2:4}\n",
    "# We end up with just 1:2 and 2:4\n",
    "print(x)"
   ]
  },
  {
   "cell_type": "markdown",
   "metadata": {},
   "source": [
    "Lastly, note that we can *nest* data structures inside each other:"
   ]
  },
  {
   "cell_type": "code",
   "execution_count": 28,
   "metadata": {},
   "outputs": [
    {
     "name": "stdout",
     "output_type": "stream",
     "text": [
      "{1: [2, 10, -1], 2: ['a', 'b', 'z']}\n",
      "[2, 10, -1]\n",
      "2\n",
      "[{2: -1, 3: -2}, {'The': 'article', 'Computer': 'noun'}]\n",
      "{'The': 'article', 'Computer': 'noun'}\n",
      "article\n"
     ]
    }
   ],
   "source": [
    "list1 = [2, 10, -1]\n",
    "list2 = ['a', 'b', 'z']\n",
    "\n",
    "lists_in_dict = {1: list1, 2: list2}\n",
    "print(lists_in_dict)\n",
    "print(lists_in_dict[1])\n",
    "# This will get the first element of list1\n",
    "print(lists_in_dict[1][0])\n",
    "\n",
    "dict1 = {2: -1, 3: -2}\n",
    "dict2 = {'The': 'article', 'Computer': 'noun'}\n",
    "dicts_in_list = [dict1, dict2]\n",
    "print(dicts_in_list)\n",
    "print(dicts_in_list[1])\n",
    "# This will get the entry for 'The' in dict1\n",
    "print(dicts_in_list[1]['The'])"
   ]
  },
  {
   "cell_type": "markdown",
   "metadata": {},
   "source": [
    "### Review\n",
    "* There are four kinds of simple data in python: integers, floating-point numbers, strings, and booleans.\n",
    "* Python also has data structures. The two most important ones are lists and maps."
   ]
  },
  {
   "cell_type": "markdown",
   "metadata": {},
   "source": [
    "## Data Manipulation <a class='anchor' id='data-manipulation-1'></a>\n",
    "[Back to top](#part-1)\n",
    "\n",
    "Obviously if all we can do is create and store data that's not super interesting. You *don't* need to memorize these, you'll learn them as you use them, but it's a good idea to have some sense of what can be done.\n",
    "\n",
    "TODO: Introduce stuff like `i = i+1`. Make sure to cover the sequence in which this is evaluated.\n",
    "\n",
    "### Working with numbers"
   ]
  },
  {
   "cell_type": "code",
   "execution_count": 8,
   "metadata": {
    "collapsed": true
   },
   "outputs": [],
   "source": [
    "# Addition, multiplication, subtraction, and division\n",
    "# We're going to reset the value of x, y, and z\n",
    "x = 1\n",
    "y = 2\n",
    "# z1 is 3\n",
    "z1 = x + y\n",
    "\n",
    "x = 2\n",
    "y = 3.2\n",
    "# z2 is 6.4\n",
    "z2 = x * y\n",
    "\n",
    "x = 4.7\n",
    "y = 3\n",
    "# z3 is now -1.7\n",
    "z3 = y - x\n",
    "\n",
    "x = 2\n",
    "y = 5\n",
    "# z4 is now 2.5\n",
    "z4 = 5 / 2\n",
    "\n",
    "## We can use multiple operations at once:\n",
    "x = 1\n",
    "y = 2\n",
    "z5 = x + y * 4\n",
    "# z5 is now 9 (y * 4 gets executed first)\n",
    "\n",
    "## We can group operations with parentheses if we don't want the default order:\n",
    "z6 = (x + y) * 4\n",
    "# z6 is 12"
   ]
  },
  {
   "cell_type": "markdown",
   "metadata": {},
   "source": [
    "### Common confusion: values are stored, not computations\n",
    "So your instinct (especially if you're used to excel) might be that when you write: `z1 = x + y` that this is saying \"set `z1` to always be the sum of `x` and `y`\". But actually you're setting it equal to the sum of the values _at that moment_.\n",
    "\n",
    "As an example:"
   ]
  },
  {
   "cell_type": "code",
   "execution_count": 1,
   "metadata": {},
   "outputs": [
    {
     "name": "stdout",
     "output_type": "stream",
     "text": [
      "5\n",
      "5\n"
     ]
    }
   ],
   "source": [
    "x = 2\n",
    "y = 3\n",
    "z1 = x + y\n",
    "# This prints 5, as you would expect\n",
    "print(z1)\n",
    "\n",
    "# Now we change x and y, but z1 remains the same\n",
    "x = 4\n",
    "y = 7\n",
    "# This still prints 5\n",
    "print(z1)"
   ]
  },
  {
   "cell_type": "markdown",
   "metadata": {},
   "source": [
    "What's going on here is that only the _final value_ actually gets stored in `z1`. Python completely forgets about how `z1` was _created_ as soon as it's done. This is actually _incredibly_ important and programming would be basically impossible if this wasn't the case. The full explanation is a little advanced, but basically you want values to change _as little as possible_ in programming, because this makes it much easier to keep track of what everything is."
   ]
  },
  {
   "cell_type": "markdown",
   "metadata": {},
   "source": [
    "### Working with strings\n",
    "There's not as much we can do with strings, but we can still do stuff:\n",
    "TODO: Give examples of special characters"
   ]
  },
  {
   "cell_type": "code",
   "execution_count": 9,
   "metadata": {
    "collapsed": true
   },
   "outputs": [],
   "source": [
    "x = \"abcd\"\n",
    "# Get the character at a particular index. y is now \"b\"\n",
    "y = x[1]\n",
    "# Get a more complicated \"substring\" (meaning a string contained in another). y is now \"ab\"\n",
    "y = x[0:2]\n",
    "# Concatenate two strings. x is now \"zyxw\"\n",
    "x = \"xy\" + \"zw\"\n",
    "# Strings also have some special characters"
   ]
  },
  {
   "cell_type": "markdown",
   "metadata": {},
   "source": [
    "### Working with booleans\n",
    "It might not be obvious *why* we care about true and false values. The main reason is that they let us do things conditionally: we can make code that only runs if some boolean is true. \n",
    "\n",
    "TODO: Give more examples of usage of booleans (e.g. \"to run code after a certain time of day\")\n",
    "TODO: Explain \"keywords\""
   ]
  },
  {
   "cell_type": "code",
   "execution_count": 10,
   "metadata": {
    "collapsed": true
   },
   "outputs": [],
   "source": [
    "## \"not\" just flips booleans\n",
    "x1 = not True\n",
    "# x1 is now False\n",
    "x2 = not False\n",
    "# x2 is now True\n",
    "\n",
    "## \"and\" combines booleans by saying that both of them have to be true\n",
    "x2 = True and True\n",
    "# x2 is now True, because a True thing and a True thing is also a true thing.\n",
    "# e.g. \"The sky is blue\" and \"The grass is green\" are both true, and they \n",
    "# combine to be \"The sky is blue and the grass is green\", which is also true\n",
    "x3 = True and False\n",
    "# x3 is now False. Consider \"The sky is blue and god is real\"\n",
    "\n",
    "## \"or\" combines booleans by saying at least one of them has to be true\n",
    "# It's like and/or, or an inclusive or.\n",
    "x4 = True or True\n",
    "# x4 is now True. Consider \"The sky is blue and/or the grass is green\"\n",
    "x5 = True or False\n",
    "# x5 is now True. Consider \"The sky is blue and/or god is real\".\n",
    "# A little weird as a sentence, but it's still a *true* sentence"
   ]
  },
  {
   "cell_type": "markdown",
   "metadata": {},
   "source": [
    "### Comparisons\n",
    "A common thing to do is to compare data in some way, e.g. by checking if they're equal."
   ]
  },
  {
   "cell_type": "code",
   "execution_count": 11,
   "metadata": {
    "collapsed": true
   },
   "outputs": [],
   "source": [
    "x = 1\n",
    "y = 2\n",
    "\n",
    "## Equality\n",
    "z1 = \"abc\" == \"abc\"\n",
    "# z1 is now true\n",
    "\n",
    "## Greater than\n",
    "z2 = x > y\n",
    "# z2 is False\n",
    "\n",
    "## Less than\n",
    "z3 = x < y\n",
    "# z3 is True\n",
    "\n",
    "## Less than or equal to\n",
    "z4 = x <= 1\n",
    "# z5 is True\n",
    "\n",
    "# Greater than or equal to\n",
    "z5 = x >= 0\n",
    "# z5 is True\n",
    "\n",
    "# Not equal\n",
    "z6 = \"abc\" != \"bcd\"\n",
    "# z6 is True"
   ]
  },
  {
   "cell_type": "markdown",
   "metadata": {},
   "source": [
    "We don't have to compare the same kind of data."
   ]
  },
  {
   "cell_type": "code",
   "execution_count": 12,
   "metadata": {
    "collapsed": true
   },
   "outputs": [],
   "source": [
    "z1 = \"abc\" == 1\n",
    "# z1 is False\n",
    "\n",
    "z2 = 5.5 > 1\n",
    "# z2 is True"
   ]
  },
  {
   "cell_type": "markdown",
   "metadata": {},
   "source": [
    "### Working with lists and maps\n",
    "I'm going to combine them together because they're pretty similar (in technical terms they share an \"interface\", meaning you can interact with them in a lot of the same ways)"
   ]
  },
  {
   "cell_type": "code",
   "execution_count": 13,
   "metadata": {
    "collapsed": true
   },
   "outputs": [],
   "source": [
    "x = [1, 2, 3]\n",
    "y = {\n",
    "    \"a\" : 1,\n",
    "    \"b\": 2,\n",
    "    \"c\": 3\n",
    "}\n",
    "\n",
    "## We can change elements of a data structure\n",
    "x[0] = 5\n",
    "# x is now [5, 2, 3]\n",
    "y[\"c\"] = 4\n",
    "# y is now {\"a\": 1, \"b\": 2, \"c\": 4}\n",
    "\n",
    "## We can get the number of elements in the data structure\n",
    "## 'len' is short for 'length'Or\n",
    "l1 = len(x)\n",
    "# l1 is now 3\n",
    "l2 = len(y)\n",
    "# l2 is now 3\n",
    "\n",
    "## We can add elements to the data structure. Here it gets more complicated.\n",
    "## Noticate how adding an element to a map is exactly the same as changing one\n",
    "x.append(4)\n",
    "# x is now [5, 2, 3, 4]\n",
    "y[\"d\"] = 4\n",
    "# y is now {\"a\": 1, \"b\": 2, \"c\": 4, \"d\": 4}\n",
    "\n",
    "## We can combine two data structures together\n",
    "other_list = [\"a\", \"b\", \"c\"]\n",
    "other_map = {1: \"a\", 2: \"b\"}\n",
    "x.extend(other_list)\n",
    "# x is now [5, 2, 3, 4, \"a\", \"b\", \"c\"]\n",
    "y.update(other_map)\n",
    "# y is now {\"a\": 1, \"b\": 2, \"c\": 4, \"d\": 4, 1: \"a\", 2: \"b\"}"
   ]
  },
  {
   "cell_type": "markdown",
   "metadata": {},
   "source": [
    "### Review\n",
    "There are lots of ways we can manipulate data.\n",
    "\n",
    "* We can perform all the standard arithmetic operations on integers and floating points\n",
    "* We can *concatenate* strings and get *substrings* from them.\n",
    "* We can use the *not*, *and*, and *or* operators on booleans\n",
    "* We can modify and extend data structures."
   ]
  },
  {
   "cell_type": "markdown",
   "metadata": {},
   "source": [
    "### Exercises\n",
    "1. What is the value of `(True and False) or True`\n",
    "2. What is the value of `True != True`\n",
    "3. We have `x = {1: 2, 2:3}`. What is the value of `x[1]`\n",
    "4. We have `x = {1: 2, 2:3}`. What do you think might happen if we execute `x[10]`? Try it.\n"
   ]
  },
  {
   "cell_type": "markdown",
   "metadata": {},
   "source": [
    "## Functions <a class='anchor' id='functions-1'></a>\n",
    "[Back to top](#part-1)\n",
    "\n",
    "**Functions** (and if statements, later on) are what separate a programming language from a calculator. They let you group chunks of code together and reuse them.\n",
    "\n",
    "There are two steps to functions: first you create (\"declare\") them. Later on, you use (\"call\") them."
   ]
  },
  {
   "cell_type": "code",
   "execution_count": 15,
   "metadata": {
    "collapsed": true
   },
   "outputs": [],
   "source": [
    "## Creating a function.\n",
    "## The **name** of the function is \"hello_world\"\n",
    "## The first line here is called the function **signature**\n",
    "## def is short for \"define\"\n",
    "def hello_world():\n",
    "    ## This is the function **body**. Note that this can be many lines.\n",
    "    print(\"Hello World\")"
   ]
  },
  {
   "cell_type": "markdown",
   "metadata": {},
   "source": [
    "At this point, the `hello_world` function is ready to be used. We can call it like this:"
   ]
  },
  {
   "cell_type": "code",
   "execution_count": 22,
   "metadata": {},
   "outputs": [
    {
     "name": "stdout",
     "output_type": "stream",
     "text": [
      "Hello World\n"
     ]
    }
   ],
   "source": [
    "# This calls hello_world. \n",
    "hello_world()"
   ]
  },
  {
   "cell_type": "markdown",
   "metadata": {},
   "source": [
    "We can also get data back from functions. This is called **returning**."
   ]
  },
  {
   "cell_type": "code",
   "execution_count": 16,
   "metadata": {
    "collapsed": true
   },
   "outputs": [],
   "source": [
    "def return_example():\n",
    "    return 1\n",
    "\n",
    "x = return_example()\n",
    "# x is now 1"
   ]
  },
  {
   "cell_type": "markdown",
   "metadata": {},
   "source": [
    "We can also give data *to* functions. This data is called the function's **arguments**. These are very important, because they let you slightly alter the way the function works each time you call it. Without these functions would always do the same thing, and they wouldn't be very useful.\n",
    "\n",
    "Here is a declaration of a function with arguments:\n",
    "\n",
    "TODO: Maybe use number_of_digits function instead?"
   ]
  },
  {
   "cell_type": "code",
   "execution_count": 17,
   "metadata": {
    "collapsed": true
   },
   "outputs": [],
   "source": [
    "## a and b are the arguments.\n",
    "def subtract_numbers(a, b):\n",
    "    return a - b"
   ]
  },
  {
   "cell_type": "markdown",
   "metadata": {},
   "source": [
    "Here is how you call a function with arguments:"
   ]
  },
  {
   "cell_type": "code",
   "execution_count": 18,
   "metadata": {
    "collapsed": true
   },
   "outputs": [],
   "source": [
    "x = subtract_numbers(2, 3)\n",
    "# x is now -1"
   ]
  },
  {
   "cell_type": "markdown",
   "metadata": {},
   "source": [
    "The examples so far don't really demonstrate the usefulness of functions. It's a lot simpler to write `2 - 3` than it is to write `subtract_numbers(2, 3)`.\n",
    "\n",
    "Functions get more useful when the functions are complicated. In this example, we have a function that adds a value to each element of a list. This would be a pain to write every time, but functions make it easy.\n",
    "\n",
    "TODO: Update with an explicit example of calling with a variable instead of a primitive\n",
    "TODO: Include note that arguments are how you put data in, and return is how you get data out"
   ]
  },
  {
   "cell_type": "code",
   "execution_count": 19,
   "metadata": {
    "collapsed": true
   },
   "outputs": [],
   "source": [
    "def simple_add_val(l, val):\n",
    "    return [l[0] + val, l[1] + val, l[2] + val]"
   ]
  },
  {
   "cell_type": "code",
   "execution_count": 20,
   "metadata": {
    "collapsed": true
   },
   "outputs": [],
   "source": [
    "x = [1, 2, 3]\n",
    "# Now we call the function\n",
    "y1 = simple_add_val(x, 2)\n",
    "# y1 is [3, 4, 5]\n",
    "y2 = simple_add_val(y1, 2.5)\n",
    "# y2 is [5.5, 6.6, 7.5]"
   ]
  },
  {
   "cell_type": "markdown",
   "metadata": {},
   "source": [
    "Actually writing out the examples would be very complicated, but here are other things you would do with functions:\n",
    "* A function that adds a new user to your website\n",
    "* A function that sends a message from one user to another\n",
    "* A function that runs Deep Dream on an image\n",
    "* A function that calculates the quadratic equation"
   ]
  },
  {
   "cell_type": "markdown",
   "metadata": {},
   "source": [
    "### Data Flow in Functions\n",
    "I want to give some simple examples of how data gets passed around in function calls, since this is a common source of confusion. We'll work through this code first:"
   ]
  },
  {
   "cell_type": "code",
   "execution_count": 1,
   "metadata": {},
   "outputs": [],
   "source": [
    "x = 1\n",
    "def add_two(asdf):\n",
    "    return asdf + 2\n",
    "\n",
    "y = add_two(x) + 3"
   ]
  },
  {
   "cell_type": "markdown",
   "metadata": {},
   "source": [
    "So, what happens here? In line 1, all that happens is that we create a variable called `x`, and set it equal to 1.\n",
    "\n",
    "Next, the `add_two` function is defined. We're not going to go into *how* the function is processed, but once it's done we have another variable called `add_two`, and that variable is a function.\n",
    "\n",
    "What happens in the last line? The right hand side of the equals sign is processed first. Python gathers the data being passed as arguments (so just `x` in this case), grabs the `add_two` function, and calls `add_two` with `x` as an argument.\n",
    "\n",
    "Now there's a sort of \"context switch\". Python jumps to the *inside* of the `add_two` function. It's sort of like having code that looks like:\n",
    "\n",
    "    asdf = ? # asdf is whatever you passed as an argument\n",
    "    return asdf + 2\n",
    "\n",
    "When we pass arguments, we're really just filling in the `?` at the start. When we pass `x` as an argument, a variable called `asdf` is created, and it's set equal to `x` (so it's set to `1`).\n",
    "\n",
    "Once the arguments are actually created, the body of the function is executed. So Python calculates `asdf + 2`, then returns it.\n",
    "\n",
    "\"Returning it\" basically just means \"substitute this back in wherever the function was called\". So we end up with the return value going on the right hand side of the `y = ?`.\n",
    "\n",
    "If we flattened the whole thing out, it would look something like:\n",
    "\n",
    "    x = 1\n",
    "    \n",
    "    # The add_two function is created\n",
    "    add_two = some function thing, don't worry about it\n",
    "    \n",
    "    # We enter the add_two function\n",
    "    # We initialize the argument\n",
    "    asdf = x\n",
    "    # We calculate the return value\n",
    "    return_value = asdf + 2\n",
    "    \n",
    "    # Now we exit the add_two function\n",
    "    # The return value gets substituted in place of the \"add_two(x)\"\n",
    "    y = return_value + 3"
   ]
  },
  {
   "cell_type": "markdown",
   "metadata": {},
   "source": [
    "### Example 2\n",
    "We have the code:"
   ]
  },
  {
   "cell_type": "code",
   "execution_count": 2,
   "metadata": {},
   "outputs": [
    {
     "data": {
      "text/plain": [
       "11"
      ]
     },
     "execution_count": 2,
     "metadata": {},
     "output_type": "execute_result"
    }
   ],
   "source": [
    "def add_and_multiply(asdf, sdfg):\n",
    "    return asdf * sdfg + (asdf + sdfg)\n",
    "\n",
    "x = 2\n",
    "y = 3\n",
    "add_and_multiply(x, y)"
   ]
  },
  {
   "cell_type": "markdown",
   "metadata": {},
   "source": [
    "This can be flattened out to:\n",
    "\n",
    "    # The function gets created\n",
    "    add_and_multiply = some function thing\n",
    "    \n",
    "    x = 2\n",
    "    y = 3\n",
    "    \n",
    "    # we enter the function\n",
    "    asdf = x\n",
    "    sdfg = y\n",
    "    return_value = (asdf * sdfg) + (asdf + sdfg)\n",
    "    # We leave the function\n",
    "    \n",
    "    # Even though we don't do anything with it, it's still there\n",
    "    return_value"
   ]
  },
  {
   "cell_type": "markdown",
   "metadata": {},
   "source": [
    "### Review\n",
    "* Functions are a way of reusing pieces of code\n",
    "* A function *takes arguments* and *returns data*"
   ]
  },
  {
   "cell_type": "markdown",
   "metadata": {},
   "source": [
    "### Exercises\n",
    "1. Write a function that takes a list and two values, and appends both of them to the list (this is totally useless, of course, but that's fine).\n",
    "    * So `your_function([1,2,3], -1, -2)` should return `[1, 2, 3, -1, -2]`\n",
    "2. Write a function that takes a value as an argument and prints it\n",
    "    * So if you pass it `5` it should print `5`, if you pass it `True` it should print `True`, etc)"
   ]
  },
  {
   "cell_type": "markdown",
   "metadata": {},
   "source": [
    "## Control Flow <a class='anchor' id='control-flow-1'></a>\n",
    "[Back to top](#part-1)\n",
    "\n",
    "Even all of that still isn't very interesting. The final piece of programming basics is **control-flow**. This lets you write more complicated conditions for which pieces of code run when.\n",
    "\n",
    "TODO: Use random library here. It's easier to give intuitions. Use `randint`"
   ]
  },
  {
   "cell_type": "markdown",
   "metadata": {},
   "source": [
    "### If statements\n",
    "If statements let us execute code *conditionally*. Specifically an if statement will only execute if a particular boolean is `True`"
   ]
  },
  {
   "cell_type": "code",
   "execution_count": 16,
   "metadata": {
    "collapsed": true
   },
   "outputs": [],
   "source": [
    "x = 1\n",
    "b = True\n",
    "# b is the boolean that determines if the code executes\n",
    "if b:\n",
    "    # this is the conditional code\n",
    "    x = x + 1\n",
    "    # We haven't seen this construction before. It takes the current value of x, adds 1 to it,\n",
    "    # and replaces x with the new value\n",
    "\n",
    "# The final value of x is 2"
   ]
  },
  {
   "cell_type": "markdown",
   "metadata": {},
   "source": [
    "An `if` statement on its own only executes if the boolean is True. We can use `if else` statements to write some code that executes if the boolean is True, and different code that executes if its False"
   ]
  },
  {
   "cell_type": "code",
   "execution_count": 35,
   "metadata": {
    "collapsed": true
   },
   "outputs": [],
   "source": [
    "x = 1\n",
    "if True:\n",
    "    # x +=1 is shorthand for x = x + 1\n",
    "    x += 1\n",
    "else:\n",
    "    x += 2\n",
    "# The final value of x is 2"
   ]
  },
  {
   "cell_type": "markdown",
   "metadata": {},
   "source": [
    "We can get the `else` to execute like this:"
   ]
  },
  {
   "cell_type": "code",
   "execution_count": 36,
   "metadata": {
    "collapsed": true
   },
   "outputs": [],
   "source": [
    "x = 1\n",
    "if False:\n",
    "    x += 1\n",
    "else:\n",
    "    x += 2\n",
    "# The final value of x is 3"
   ]
  },
  {
   "cell_type": "markdown",
   "metadata": {},
   "source": [
    "### While loops\n",
    "**While** loops let you run the same code multiple times. They *stop* running when a particular boolean is `False`."
   ]
  },
  {
   "cell_type": "code",
   "execution_count": 37,
   "metadata": {
    "collapsed": true
   },
   "outputs": [],
   "source": [
    "x = 1\n",
    "# This loop will run over and over until x *isn't* less than 4\n",
    "while x < 4:\n",
    "    x += 1\n",
    "\n",
    "# The final value of x is *4*\n",
    "# The first time it runs we have x == 1. 1 < 4, so we add 1 and now x == 2\n",
    "# 2 < 4, so we add 1 and x == 3. 3 < 4, so we add 1 and x == 4. 4 < 4 is False, so the loop stops running"
   ]
  },
  {
   "cell_type": "markdown",
   "metadata": {},
   "source": [
    "If you write your condition wrong, the loop will run forever. It is *very important* to make sure that *eventually* the loop condition is `False`.\n",
    "\n",
    "For example, the following code runs forever, because the condition is always `True`. (Don't run this code)\n",
    "\n",
    "    x = 1\n",
    "    while True:\n",
    "        x += 1"
   ]
  },
  {
   "cell_type": "markdown",
   "metadata": {},
   "source": [
    "One of the main uses of loops is iterating over the elements of a data structure. We can use a while loop to go over all the elements of a list, for instance:"
   ]
  },
  {
   "cell_type": "code",
   "execution_count": null,
   "metadata": {
    "collapsed": true
   },
   "outputs": [],
   "source": [
    "x = [1, 2, 3]\n",
    "# i is our *index variable*. We'll use it to keep track of which element we're looking at\n",
    "i = 0\n",
    "while i < 3:\n",
    "    # Get the i-th element of x.\n",
    "    b = x[i]\n",
    "    print(b + 1)\n",
    "    # we need to update i every time we go through the loop, or it will run forever\n",
    "    i += 1\n",
    "\n",
    "# This loop will print 2, then 3, then 4"
   ]
  },
  {
   "cell_type": "markdown",
   "metadata": {},
   "source": [
    "Some vocabulary: the `i < 3` bit is called the loop **condition**. The indented section of code is called the loop **block**."
   ]
  },
  {
   "cell_type": "markdown",
   "metadata": {},
   "source": [
    "### For loops\n",
    "**For** loops are another kind of loop. *Technically* every for loop can be written as a while loop, but it's tedious. For loops are nice because it's much harder (almost impossible) to get them to run forever.\n",
    "\n",
    "While loops *can* iterate over the elements of a data structure. *For* loops *always* do. Here's an example that does the same thing as the previous while loop:"
   ]
  },
  {
   "cell_type": "code",
   "execution_count": null,
   "metadata": {
    "collapsed": true
   },
   "outputs": [],
   "source": [
    "x = [1, 2, 3]\n",
    "for b in x:\n",
    "    print(b + 1)\n",
    "# This loop will print 2, then 3, then 4"
   ]
  },
  {
   "cell_type": "markdown",
   "metadata": {},
   "source": [
    "`current_element` is a *placeholder* variable. It's our way of naming the element we're *currently* looking at.\n",
    "\n",
    "Let's go back to our previous function `simple_add_val`:"
   ]
  },
  {
   "cell_type": "code",
   "execution_count": 1,
   "metadata": {
    "collapsed": true
   },
   "outputs": [],
   "source": [
    "def simple_add_val(l, val):\n",
    "    return [l[0] + val, l[1] + val, l[2] + val]"
   ]
  },
  {
   "cell_type": "markdown",
   "metadata": {},
   "source": [
    "What happens if `l` has more than three elements though? What if it has *less* than three? (Try to guess)\n",
    "\n",
    "In the first case, the first three elements get changed and the other elements stay the same.\n",
    "In the second case, the code breaks.\n",
    "\n",
    "We can fix both of these problems with a for loop. Instead of directly indexing the values of the list, we'll loop over them. That way we can handle a list of any size."
   ]
  },
  {
   "cell_type": "code",
   "execution_count": 2,
   "metadata": {
    "collapsed": true
   },
   "outputs": [],
   "source": [
    "def better_add_val(l, val):\n",
    "    new_list = []\n",
    "    for element in l:\n",
    "        new_element = element + val\n",
    "        new_list.append(new_element)\n",
    "    return new_list"
   ]
  },
  {
   "cell_type": "markdown",
   "metadata": {},
   "source": [
    "Let's compare the functions."
   ]
  },
  {
   "cell_type": "code",
   "execution_count": 3,
   "metadata": {
    "collapsed": true
   },
   "outputs": [],
   "source": [
    "x = [1, 2, 3, 4]\n",
    "y = [1, 2]"
   ]
  },
  {
   "cell_type": "code",
   "execution_count": 4,
   "metadata": {
    "collapsed": true
   },
   "outputs": [],
   "source": [
    "# This will give us [2, 3, 4, 4] instead of [2, 3, 4, 5]\n",
    "z1 = simple_add_val(x, 1)"
   ]
  },
  {
   "cell_type": "code",
   "execution_count": 5,
   "metadata": {},
   "outputs": [
    {
     "ename": "IndexError",
     "evalue": "list index out of range",
     "output_type": "error",
     "traceback": [
      "\u001b[0;31m---------------------------------------------------------------------------\u001b[0m",
      "\u001b[0;31mIndexError\u001b[0m                                Traceback (most recent call last)",
      "\u001b[0;32m<ipython-input-5-19419411e277>\u001b[0m in \u001b[0;36m<module>\u001b[0;34m()\u001b[0m\n\u001b[1;32m      1\u001b[0m \u001b[0;31m# This will break\u001b[0m\u001b[0;34m\u001b[0m\u001b[0;34m\u001b[0m\u001b[0m\n\u001b[0;32m----> 2\u001b[0;31m \u001b[0mz2\u001b[0m \u001b[0;34m=\u001b[0m \u001b[0msimple_add_val\u001b[0m\u001b[0;34m(\u001b[0m\u001b[0my\u001b[0m\u001b[0;34m,\u001b[0m \u001b[0;36m1\u001b[0m\u001b[0;34m)\u001b[0m\u001b[0;34m\u001b[0m\u001b[0m\n\u001b[0m",
      "\u001b[0;32m<ipython-input-1-8d89bcdb4039>\u001b[0m in \u001b[0;36msimple_add_val\u001b[0;34m(l, val)\u001b[0m\n\u001b[1;32m      1\u001b[0m \u001b[0;32mdef\u001b[0m \u001b[0msimple_add_val\u001b[0m\u001b[0;34m(\u001b[0m\u001b[0ml\u001b[0m\u001b[0;34m,\u001b[0m \u001b[0mval\u001b[0m\u001b[0;34m)\u001b[0m\u001b[0;34m:\u001b[0m\u001b[0;34m\u001b[0m\u001b[0m\n\u001b[0;32m----> 2\u001b[0;31m     \u001b[0;32mreturn\u001b[0m \u001b[0;34m[\u001b[0m\u001b[0ml\u001b[0m\u001b[0;34m[\u001b[0m\u001b[0;36m0\u001b[0m\u001b[0;34m]\u001b[0m \u001b[0;34m+\u001b[0m \u001b[0mval\u001b[0m\u001b[0;34m,\u001b[0m \u001b[0ml\u001b[0m\u001b[0;34m[\u001b[0m\u001b[0;36m1\u001b[0m\u001b[0;34m]\u001b[0m \u001b[0;34m+\u001b[0m \u001b[0mval\u001b[0m\u001b[0;34m,\u001b[0m \u001b[0ml\u001b[0m\u001b[0;34m[\u001b[0m\u001b[0;36m2\u001b[0m\u001b[0;34m]\u001b[0m \u001b[0;34m+\u001b[0m \u001b[0mval\u001b[0m\u001b[0;34m]\u001b[0m\u001b[0;34m\u001b[0m\u001b[0m\n\u001b[0m",
      "\u001b[0;31mIndexError\u001b[0m: list index out of range"
     ]
    }
   ],
   "source": [
    "# This will break\n",
    "z2 = simple_add_val(y, 1)"
   ]
  },
  {
   "cell_type": "code",
   "execution_count": 6,
   "metadata": {
    "collapsed": true
   },
   "outputs": [],
   "source": [
    "# This will give us [2, 3, 4, 5]\n",
    "z3 = better_add_val(x, 1)\n",
    "# This will give us [2, 3]\n",
    "z4 = better_add_val(y, 1)"
   ]
  },
  {
   "cell_type": "markdown",
   "metadata": {
    "collapsed": true
   },
   "source": [
    "### Review\n",
    "* If statements let you run code only under some conditions.\n",
    "* While loops are a general way to run the same code over and over.\n",
    "* For loops run the same code over and over, but always in reference to a data structure."
   ]
  },
  {
   "cell_type": "markdown",
   "metadata": {},
   "source": [
    "### Exercises\n",
    "For these exercises, I'm giving you boxes you can write code in. (Technically you can edit every box so you can write code everywhere). Writing control-flow in the prompt is kind of tricky because if you press Enter too many times it'll run the code instead of letting you write more. To write code in a box, double click on it. To run the code, type Shift+Enter"
   ]
  },
  {
   "cell_type": "markdown",
   "metadata": {},
   "source": [
    "1. Write a for loop that prints the numbers 1 through 10\n",
    "2. Write a while loop that prints the number 1 through 10\n",
    "3. Write a function that:\n",
    "    * Takes a number as an argument\n",
    "    * Contains a while loop that prints 0 through whatever the argument is\n",
    "    * If the number is less than zero then don't print anything\n",
    "4. In the previous example, why is it necessary to check that the number isn't negative?\n",
    "5. Write a function that:\n",
    "    * Takes two arguments\n",
    "    * If the first argument is true, then print the second argument\n",
    "    * If the second argument is false, then print the string \"false\"\n",
    "6. Write a for loop that calculates the *sum* of the number 1 through 10"
   ]
  },
  {
   "cell_type": "code",
   "execution_count": 21,
   "metadata": {
    "collapsed": true
   },
   "outputs": [],
   "source": [
    "# Use this box for exercise 1.\n"
   ]
  },
  {
   "cell_type": "code",
   "execution_count": 22,
   "metadata": {
    "collapsed": true
   },
   "outputs": [],
   "source": [
    "# Use this box for exercise 2.\n"
   ]
  },
  {
   "cell_type": "code",
   "execution_count": 24,
   "metadata": {},
   "outputs": [
    {
     "ename": "SyntaxError",
     "evalue": "invalid syntax (<ipython-input-24-689bea3fd8e1>, line 4)",
     "output_type": "error",
     "traceback": [
      "\u001b[0;36m  File \u001b[0;32m\"<ipython-input-24-689bea3fd8e1>\"\u001b[0;36m, line \u001b[0;32m4\u001b[0m\n\u001b[0;31m    while #some condition\u001b[0m\n\u001b[0m                         ^\u001b[0m\n\u001b[0;31mSyntaxError\u001b[0m\u001b[0;31m:\u001b[0m invalid syntax\n"
     ]
    }
   ],
   "source": [
    "# Use this box for exercise 3.\n",
    "# Here is a rough outline of the code (this won't run until you fix it)\n",
    "def loop_and_print(upper_bound):\n",
    "    while #some condition\n",
    "        # print something"
   ]
  },
  {
   "cell_type": "code",
   "execution_count": 1,
   "metadata": {
    "collapsed": true
   },
   "outputs": [],
   "source": [
    "# Use this box for exercise 5.\n"
   ]
  },
  {
   "cell_type": "code",
   "execution_count": 3,
   "metadata": {},
   "outputs": [],
   "source": [
    "# Use this box for exercise 6."
   ]
  },
  {
   "cell_type": "markdown",
   "metadata": {},
   "source": [
    "## Modules <a class='anchor' id='libraries-1'></a>\n",
    "[Back to top](#part-1)\n",
    "\n",
    "A **module** is a collection of code that's available for you to use in your own code. Many modules that you use are actually pieces of code written by other people and shared with the world. These modules are called **libraries**.\n",
    "\n",
    "Python comes with a few *[standard libraries](https://docs.python.org/3/library/)*. These are modules that are always available when using Python. For example, the [random](https://docs.python.org/3/library/random.html) library lets you generate random numbers.\n",
    "\n",
    "We use modules by **importing** them:"
   ]
  },
  {
   "cell_type": "code",
   "execution_count": 5,
   "metadata": {},
   "outputs": [
    {
     "name": "stdout",
     "output_type": "stream",
     "text": [
      "6\n",
      "18\n"
     ]
    }
   ],
   "source": [
    "# This line imports the random library\n",
    "import random\n",
    "\n",
    "# Roll a six-sided die. Note that the '7' here is one *higher* than the maximum dice roll.\n",
    "# This is confusing at first, I know, but there are good reasons for it we'll get into later.\n",
    "dice_roll = random.randrange(1, 7)\n",
    "print(dice_roll)\n",
    "# Roll a d20\n",
    "d20_roll = random.randrange(1, 21)\n",
    "print(d20_roll)\n",
    "# Note that this code is *random*. You'll get different answers every time you run it."
   ]
  },
  {
   "cell_type": "markdown",
   "metadata": {},
   "source": [
    "### Public Packages\n",
    "There are also public Python libraries stored on the *[Python Package Index](https://pypi.org/)* (PyPI). These are libraries written by other people, made available for free for everyone else to use. These can be downloaded and installed using the `pip` tool (which got installed when you installed Anaconda).\n",
    "\n",
    "Most Python libraries that you will actually use are of this type. As a general rule if there's a thing you want to do Python has a library for it. Some examples:\n",
    "* [numpy](https://github.com/numpy/numpy). Python is one of the main languages in the sciences, and it's mostly because of numpy. Numpy provides the foundation for all numerical calculations (so statistics, simulations, differential equations, etc).\n",
    "* [Flask](https://github.com/pallets/flask). Flask is a library for building websites.\n",
    "* [matplotlib](https://github.com/matplotlib/matplotlib). For generating pretty graphs.\n",
    "* [Pillow](https://github.com/python-pillow/Pillow). For image editing.\n",
    "\n",
    "I really cannot emphasize enough that there is *almost always* a library for what you want to do. Usually *several*. One of the main components of Python expertise is knowing what libraries are out there and how to use them."
   ]
  },
  {
   "cell_type": "markdown",
   "metadata": {},
   "source": [
    "#### Example: Using Arrow\n",
    "[Arrow](https://arrow.readthedocs.io/en/latest/) is a library for dealing with dates and times. Dates and times are *incredibly* complicated, and you *do not* want to write any of that code yourself. (Python does have standard libraries for dealing with dates and times, but they're kind of a pain).\n",
    "\n",
    "First, install arrow by opening the Anaconda prompt and running `pip install arrow`. This makes arrow available any time you use Python.\n",
    "\n",
    "Next, run the Python interpreter and write:"
   ]
  },
  {
   "cell_type": "code",
   "execution_count": 3,
   "metadata": {},
   "outputs": [
    {
     "data": {
      "text/plain": [
       "<Arrow [2020-06-02T18:42:52.548796-04:00]>"
      ]
     },
     "execution_count": 3,
     "metadata": {},
     "output_type": "execute_result"
    }
   ],
   "source": [
    "import arrow\n",
    "\n",
    "arrow.now()"
   ]
  },
  {
   "cell_type": "markdown",
   "metadata": {},
   "source": [
    "What's happening here is that the `arrow` library has a function called `now`. When you import a library you *don't* just get everything in the library immediately available: you always have to go through the intermediate step of accessing the library first. That's why we need `arrow.now` instead of just `now`.\n",
    "\n",
    "(There are ways around that but it's often a bad idea to do so. It's really helpful when reading code to know exactly where everything came from)."
   ]
  },
  {
   "cell_type": "markdown",
   "metadata": {},
   "source": [
    "### Your Own Packages\n",
    "You don't have to get packages from PyPI. You can make your own packages, and distribute them however you like. The process isn't *particularly* complicated, but we're not going to touch it for now"
   ]
  },
  {
   "cell_type": "markdown",
   "metadata": {},
   "source": [
    "### Review\n",
    "* Libraries are bundles of code that you can import and use in your own code.\n",
    "* Python comes with a set of standard libraries that you can always use.\n",
    "* Additional libraries can be installed with the `pip` tool."
   ]
  },
  {
   "cell_type": "markdown",
   "metadata": {},
   "source": [
    "### Exercises\n",
    "1. Using the `random` library, roll a d100.\n",
    "2. Install (but don't worry about using) the flask library.\n",
    "3. *Un*install the flask library (you'll have to search to find out what the command for uninstalling is)"
   ]
  },
  {
   "cell_type": "markdown",
   "metadata": {},
   "source": [
    "## Storing And Organizing Your Code <a class=\"anchor\" id=\"storing-code-1\"></a>\n",
    "[Back to top](#part-1)\n",
    "\n",
    "So far, all the code you've written has been in the prompt or in this notebook. These are great tools for experimenting with code, but they're *not* great tools for building something permanent.\n",
    "\n",
    "For that we need Python *files*. A Python file is just a normal plain-text file that contains Python code.\n",
    "\n",
    "The main advantages of Python files:\n",
    "* You can **run** them with the `python` tool in your command-line. Want a program that, say, pulls a picture of a dog from the internet and displays it to you? This is how you do that with Python.\n",
    "* You can write code in one file, then use that code in another file (or in the prompt, or a Jupyter notebook). You do this by **importing** the first file\n",
    "* You can **test** your code. This is *incredibly* important if you want code that actually works, and unfortunately most tutorials don't talk about it. Testing *usually* means running your code with lots of different inputs and checking that the outputs are correct.\n",
    "* You can **package** your code. This means bundling a bunch of files together and sharing them with the world. (Arguably) the main reason Python is so successful is that it has so many excellent packages available, so you often can just use code someone else wrote instead of writing it yourself."
   ]
  },
  {
   "cell_type": "markdown",
   "metadata": {},
   "source": [
    "### Bare Bones Files\n",
    "There are quite a few ways to organize Python files. We're going to start with the absolute simplest: a single Python file that you run from the command line. This is where most programming tutorials actually start, but I think it's a good idea to introduce the basic concepts of programming *first* so you understand everything from the ground up.\n",
    "\n",
    "Create a file named `hello_world.py`. You can make this file however you like, but if you get asked make sure it's a *plain-text* file. *Don't* make it in Microsoft Word or something like that. \n",
    "\n",
    "Open the file in a text editor (e.g. Notebook on Windows, TextEdit on Mac, or any of 10000 possibilities on Linux).\n",
    "\n",
    "Write `print(\"Hello world\")` in the file, then save and close it. When we run this file, it will just run that line and print `Hello World` onto your screen.\n",
    "\n",
    "Open the Anaconda prompt. Write now, your prompt is in a specific folder. You can find out which folder by writing `pwd`. In order to run the file, you need to navigate to the folder where you saved `hello_world.py`. I can't give specific instructions on how to do this since I don't know where you saved the file, but some general tips:\n",
    "* `pwd` tells you the current folder (`pwd` stands for \"present working directory\"). If `pwd` doesn't work then try `cwd` (for \"current working directory\").\n",
    "* `ls` tells you the files and folders contained in the current folder. (`ls` is short for \"list\")\n",
    "* `cd name_of_subfolder` will change your current directory to the subfolder. So if you're in `Home` and there's a subfolder called `Documents` then `cd Documents` will put you in `Documents`. (`cd` is short for \"change directory\")\n",
    "\n",
    "Once you're in the folder containing `hello_world.py`, run `python hello_world.py`. You should see \"Hello World\" printed on the screen."
   ]
  },
  {
   "cell_type": "markdown",
   "metadata": {
    "collapsed": true
   },
   "source": [
    "### Importing Your Own Files\n",
    "\n",
    "Earlier we went over how to import entire libraries. You can also import single files (actually you can import entire folders, or folders of folders, etc. A Python package is basically some folders containing Python code, with some fancy extras to handle installation).\n",
    "\n",
    "First, create a python file. Write a function in it called `foo` that takes two arguments and returns their sum.\n",
    "\n",
    "Now create a second python file. Note that both files need to be in the same folder. In the second file, write:\n",
    "\n",
    "    import name_of_first_file\n",
    "    \n",
    "    x = name_of_first_file.foo(3, 4)\n",
    "    print(x)\n",
    "    \n",
    "Obviously you should replace `name_of_first_file` with the actual name of the first file, *without* the '.py' part. So if you named it `to_import.py` your second file would look like:\n",
    "\n",
    "    import to_import\n",
    "    \n",
    "    x = to_import.foo(3, 4)\n",
    "    print(x)"
   ]
  },
  {
   "cell_type": "markdown",
   "metadata": {},
   "source": [
    "### Review\n",
    "* You can run Python code stored in a file by calling `python name_of_file.py` in the terminal.\n",
    "* If you have multiple Python files in a folder, you can import one file into another with `import name_of_file`.\n",
    "* Once you've imported a file, you can access the structures in that file with `name_of_file.name_of_thing`.\n"
   ]
  },
  {
   "cell_type": "markdown",
   "metadata": {},
   "source": [
    "### Exercises\n",
    "1. Create a file called `config.py` that contains some simple variables (e.g. `a = 1`, `b = [2,3,4]`, whatever). Import `config` in another file, and print all the simple variables.\n",
    "2. Create two python files, and have them import each other (it doesn't matter what the files actually do). Try running one of the files. What happens?"
   ]
  },
  {
   "cell_type": "markdown",
   "metadata": {},
   "source": [
    "## Basic Scripting <a class=\"anchor\" id=\"basic-scripting-1\"></a>\n",
    "[Back to top](#part-1)\n",
    "\n",
    "Before we move on to more complicated things, we're going to do some very basic scripting. Unfortunately I don't use Windows, so I can't give details on how to set everything up there (yet).\n",
    "\n",
    "Before we start, create a folder called `scripts`. We're going to put all the files we make in there."
   ]
  },
  {
   "cell_type": "markdown",
   "metadata": {},
   "source": [
    "### Script 1: Timer\n",
    "[Back to top](#basic-scripting-1)\n",
    "\n",
    "Here's a simple five second timer:"
   ]
  },
  {
   "cell_type": "code",
   "execution_count": 1,
   "metadata": {},
   "outputs": [
    {
     "name": "stdout",
     "output_type": "stream",
     "text": [
      "Done\n"
     ]
    }
   ],
   "source": [
    "# Time is one of the standard Python libraries\n",
    "import time\n",
    "\n",
    "# time.sleep waits a certain number of seconds, and then continues\n",
    "# We're making it wait 5 seconds\n",
    "time.sleep(5)\n",
    "print(\"Done\")"
   ]
  },
  {
   "cell_type": "markdown",
   "metadata": {},
   "source": [
    "Let's say we want a more complicated timer that can work for an amount of time we choose. So we want to be able to say `python timer.py 30` and get a 30 second timer.\n",
    "\n",
    "Inside the `scripts` folder, create a file called `timer.py`. Put the previous code in it, so `timer.py` should look like:"
   ]
  },
  {
   "cell_type": "code",
   "execution_count": 2,
   "metadata": {},
   "outputs": [
    {
     "name": "stdout",
     "output_type": "stream",
     "text": [
      "Done\n"
     ]
    }
   ],
   "source": [
    "import time\n",
    "\n",
    "# Wait 5 seconds\n",
    "time.sleep(5)\n",
    "print(\"Done\")"
   ]
  },
  {
   "cell_type": "markdown",
   "metadata": {},
   "source": [
    "Now if you run `python timer.py`, it'll wait 5 seconds and then print \"Done\". The question is: how do we get `python timer.py 30` to work? Specifically how do we get that `30`?\n",
    "\n",
    "The answer is by using the `sys` (system) standard library. Specifically we're going to use `sys.argv`, which stores all the extra arguments we passed to the script. (`argv` stands for \"argument vector\").\n",
    "\n",
    "Here's what the code looks like (note that if you run this in this notebook it will break, because the notebook doesn't have the write `argv` object)."
   ]
  },
  {
   "cell_type": "code",
   "execution_count": 4,
   "metadata": {},
   "outputs": [
    {
     "ename": "ValueError",
     "evalue": "invalid literal for int() with base 10: '-f'",
     "output_type": "error",
     "traceback": [
      "\u001b[0;31m---------------------------------------------------------------------------\u001b[0m",
      "\u001b[0;31mValueError\u001b[0m                                Traceback (most recent call last)",
      "\u001b[0;32m<ipython-input-4-772a8ed8650e>\u001b[0m in \u001b[0;36m<module>\u001b[0;34m\u001b[0m\n\u001b[1;32m      2\u001b[0m \u001b[38;5;28;01mimport\u001b[39;00m \u001b[38;5;21;01msys\u001b[39;00m\n\u001b[1;32m      4\u001b[0m seconds_to_wait_string \u001b[38;5;241m=\u001b[39m sys\u001b[38;5;241m.\u001b[39margv[\u001b[38;5;241m1\u001b[39m]\n\u001b[0;32m----> 5\u001b[0m actual_seconds_to_wait \u001b[38;5;241m=\u001b[39m \u001b[38;5;28;48;5;17mint\u001b[39;49m\u001b[48;5;17m(\u001b[49m\u001b[48;5;17mseconds_to_wait_string\u001b[49m\u001b[48;5;17m)\u001b[49m\n\u001b[1;32m      7\u001b[0m time\u001b[38;5;241m.\u001b[39msleep(actual_seconds_to_wait)\n\u001b[1;32m      8\u001b[0m \u001b[38;5;28mprint\u001b[39m(\u001b[38;5;124m\"\u001b[39m\u001b[38;5;124mDone\u001b[39m\u001b[38;5;124m\"\u001b[39m)\n",
      "\u001b[0;31mValueError\u001b[0m: invalid literal for int() with base 10: '-f'"
     ]
    }
   ],
   "source": [
    "import time\n",
    "import sys\n",
    "\n",
    "seconds_to_wait_string = sys.argv[1]\n",
    "actual_seconds_to_wait = int(seconds_to_wait_string)\n",
    "\n",
    "time.sleep(actual_seconds_to_wait)\n",
    "print(\"Done\")"
   ]
  },
  {
   "cell_type": "markdown",
   "metadata": {},
   "source": [
    "Let's break this down. `sys.argv` is a list. The first element (`sys.argv[0]`) is always the name of the script (so it will always be `timer.py` in this case). The *second* element (`sys.argv[1]`) is the `30` in `python timer.py 30`. (If you had called `python timer.py 30 hello` then `sys.argv[2]` would be \"hello\")\n",
    "\n",
    "However: that 30 you passed *isn't* 30 the *number*. It's the *string* \"30\". We need to convert it to a number, which is what `int` does:"
   ]
  },
  {
   "cell_type": "code",
   "execution_count": 6,
   "metadata": {},
   "outputs": [
    {
     "name": "stdout",
     "output_type": "stream",
     "text": [
      "False\n",
      "True\n"
     ]
    }
   ],
   "source": [
    "print(\"30\" == 30)\n",
    "print(int(\"30\") == 30)"
   ]
  },
  {
   "cell_type": "markdown",
   "metadata": {},
   "source": [
    "Note that if you run, say, `python timer.py hello` you'll get an error, because `int(\"hello\")` is meaningless."
   ]
  },
  {
   "cell_type": "markdown",
   "metadata": {},
   "source": [
    "### Script 2: Say Hello\n",
    "[Back to top](#basic-scripting-1)\n",
    "\n",
    "The last script gave an example of how to pass user input to Python at the *start* of a script. This one will show how to pass input *during* a script. This uses the (conveniently named) `input` function"
   ]
  },
  {
   "cell_type": "markdown",
   "metadata": {},
   "source": [
    "### Script 3: Rolling Dice\n",
    "[Back to top](#basic-scripting-1)"
   ]
  },
  {
   "cell_type": "markdown",
   "metadata": {},
   "source": [
    "# 2. Details of Python <a class=\"anchor\" id=\"part-2\"></a>\n",
    "[Back to top](#top)\n",
    "* [Control Flow 2](#control-flow-2)\n",
    "* [Objects and Classes](#objects-and-classes-2)\n",
    "* [Data Structures 2](#data-structures-2)\n",
    "* [Comprehensions](#comprehensions-2)\n",
    "* [Working with Strings](#strings-2)\n",
    "\n",
    "The concepts so far (variables, data, functions, control flow, libraries) are present in basically all programming languages. You'd find similar sections in an intro to any programming language. Now we're going to get more into the weeds of things that are more specific to Python."
   ]
  },
  {
   "cell_type": "markdown",
   "metadata": {},
   "source": [
    "## Control Flow 2 <a class=\"anchor\" id=\"control-flow-2\"></a>\n",
    "[Back to top](#part-2)\n",
    "\n",
    "We're going to very quickly go over some additional control flow tools.\n",
    "\n",
    "TODO: Talk about `elif`. Make sure to include an example of how it stops as soon as it hits the first `True` value"
   ]
  },
  {
   "cell_type": "markdown",
   "metadata": {},
   "source": [
    "### `pass`\n",
    "\n",
    "The `pass` command essentially says \"do nothing and move on\". Example:"
   ]
  },
  {
   "cell_type": "code",
   "execution_count": 3,
   "metadata": {},
   "outputs": [
    {
     "name": "stdout",
     "output_type": "stream",
     "text": [
      "x is False\n"
     ]
    }
   ],
   "source": [
    "def test_pass(x):\n",
    "    if x == True:\n",
    "        pass\n",
    "    else:\n",
    "        print(\"x is False\")\n",
    "\n",
    "# This won't do anything\n",
    "test_pass(True)\n",
    "# This will print 'x is False'\n",
    "test_pass(False)"
   ]
  },
  {
   "cell_type": "markdown",
   "metadata": {},
   "source": [
    "Why would we use this? One of the main ones is just to write placeholder code. Another is to write code that won't fail for some *specific* error (we'll elaborate on what that means later)."
   ]
  },
  {
   "cell_type": "markdown",
   "metadata": {},
   "source": [
    "### `continue`\n",
    "\n",
    "`continue` is sort of like pass, but for loops. A `continue` means \"skip the rest of the code and continue on the next loop iteration\". Here's an example in a for loop:"
   ]
  },
  {
   "cell_type": "code",
   "execution_count": 4,
   "metadata": {},
   "outputs": [
    {
     "name": "stdout",
     "output_type": "stream",
     "text": [
      "1\n",
      "2\n",
      "4\n"
     ]
    }
   ],
   "source": [
    "# This will print 1, 2, and 4. 3 gets skipped.\n",
    "for x in [1, 2, 3, 4]:\n",
    "    if x == 3:\n",
    "        continue\n",
    "    print(x)"
   ]
  },
  {
   "cell_type": "markdown",
   "metadata": {},
   "source": [
    "The main reason to use `continue` is if there are specific iterations you want to skip. For example, if we want to skip all the even numbers:"
   ]
  },
  {
   "cell_type": "code",
   "execution_count": 8,
   "metadata": {},
   "outputs": [
    {
     "name": "stdout",
     "output_type": "stream",
     "text": [
      "1\n",
      "3\n"
     ]
    }
   ],
   "source": [
    "# This will print 1 and 3\n",
    "for x in [1, 2, 3, 4]:\n",
    "    # % is the remainder operation. x % 2 tells you the remainder when you divide x by 2\n",
    "    # This is 0 when x is even, and 1 when x is odd.\n",
    "    if x % 2 == 0:\n",
    "        continue\n",
    "    print(x)"
   ]
  },
  {
   "cell_type": "markdown",
   "metadata": {},
   "source": [
    "As a bad example of `pass`, we can use `pass` to achieve a similar thing:"
   ]
  },
  {
   "cell_type": "code",
   "execution_count": 9,
   "metadata": {},
   "outputs": [
    {
     "name": "stdout",
     "output_type": "stream",
     "text": [
      "1\n",
      "3\n"
     ]
    }
   ],
   "source": [
    "# This will print 1 and 3\n",
    "for x in [1, 2, 3, 4]:\n",
    "    # This works because there's nothing *outside* the if statement. So when we call pass\n",
    "    # we're immediately at the end of the loop block.\n",
    "    if x % 2 == 0:\n",
    "        pass\n",
    "    else:\n",
    "        print(x)"
   ]
  },
  {
   "cell_type": "markdown",
   "metadata": {},
   "source": [
    "### `break`\n",
    "\n",
    "`break` is also used in loops, but instead of skipping to the *next* iteration, it *ends* the loop early."
   ]
  },
  {
   "cell_type": "code",
   "execution_count": 5,
   "metadata": {},
   "outputs": [
    {
     "name": "stdout",
     "output_type": "stream",
     "text": [
      "1\n",
      "2\n"
     ]
    }
   ],
   "source": [
    "# This will only print 1 and 2\n",
    "for x in [1, 2, 3, 4]:\n",
    "    if x == 3:\n",
    "        break\n",
    "    print(x)"
   ]
  },
  {
   "cell_type": "markdown",
   "metadata": {},
   "source": [
    "Normally, `while True:` will loop forever. Something like:\n",
    "\n",
    "    while True:\n",
    "        print(\"Still going\")\n",
    "\n",
    "will print \"Still going\" forever. We can use a `break` statement to end the loop though:"
   ]
  },
  {
   "cell_type": "code",
   "execution_count": 6,
   "metadata": {},
   "outputs": [
    {
     "name": "stdout",
     "output_type": "stream",
     "text": [
      "Still going\n",
      "Still going\n",
      "Still going\n",
      "Still going\n"
     ]
    }
   ],
   "source": [
    "x = 1\n",
    "while True:\n",
    "    print(\"Still going\")\n",
    "    # We end after four iterations of the loop\n",
    "    if x == 4:\n",
    "        break\n",
    "    x += 1"
   ]
  },
  {
   "cell_type": "markdown",
   "metadata": {},
   "source": [
    "Why would we do this? Sometimes you don't know *when* the loop will end. Say, for instance, that you have some code that's constantly checking if your friend has sent you an email. You don't know when that's going to happen, so instead you loop forever, and then when *eventually* you see the email you break out of the loop.\n",
    "\n",
    "(Note that in practice this is not how you write code to check email, but it's not *that* far from the right way)."
   ]
  },
  {
   "cell_type": "markdown",
   "metadata": {},
   "source": [
    "### Review\n",
    "* `pass` does nothing.\n",
    "* `continue` skips the rest of a loop and goes back to the beginning of the loop\n",
    "* `break` ends a loop"
   ]
  },
  {
   "cell_type": "markdown",
   "metadata": {},
   "source": [
    "### Exercises\n",
    "1. Write a while loop that sums the numbers between 1 and 10, skipping the multiples of 3 (you should get 37 as the final answer)\n",
    "2. Write an if-else statement that does nothing in either case (no, you would not ever actually write this code.\n",
    "3. Write a function that takes a number as an argument. It should print the numbers 0, 1, 2, ... all the way up to the passed number.\n",
    "    * `your_function(5)` should print 0, 1, 2, 3, 4"
   ]
  },
  {
   "cell_type": "markdown",
   "metadata": {},
   "source": [
    "## Objects and Classes <a class=\"anchor\" id=\"objects-and-classes-2\"></a>\n",
    "[Back to top](#part-2)\n",
    "\n",
    "There's two very important (and related) data structures I haven't introduced yet: **objects** and **classes**.\n",
    "\n",
    "Classes are (roughly) a way to define a new *type* of data structure. An object of a class is a *specific instance* of that data structure. For example 'list' is a class, and `[1, 2, 3]` is a list object.\n",
    "\n",
    "Here's an example of class:"
   ]
  },
  {
   "cell_type": "code",
   "execution_count": 7,
   "metadata": {},
   "outputs": [
    {
     "name": "stdout",
     "output_type": "stream",
     "text": [
      "Not John Doe\n",
      "1\n",
      "Art history\n"
     ]
    }
   ],
   "source": [
    "# This line creates the Student class.\n",
    "class Student():\n",
    "    \n",
    "    # This function defines *how* to create a Student object\n",
    "    def __init__(self, name, id_number, major):\n",
    "        self.name = name\n",
    "        self.id_number = id_number\n",
    "        self.major = major\n",
    "\n",
    "# This line actually creates a Student object.\n",
    "john_doe = Student(\"Not John Doe\", 1, \"Art history\")\n",
    "\n",
    "# Prints \"Not John Doe\"\n",
    "print(john_doe.name)\n",
    "\n",
    "# Prints 1\n",
    "print(john_doe.id_number)\n",
    "\n",
    "# Prints \"Art history\"\n",
    "print(john_doe.major)"
   ]
  },
  {
   "cell_type": "markdown",
   "metadata": {},
   "source": [
    "So, what's going on here? We've defined a class called `Student`. A `Student` has three pieces of data: a `name`, an `id_number`, and a `major`. When we write `Student(\"Not John Doe\", 1, \"Art history\")`, this actually calls the `__init__` function, which then creates the `Student` object with the specific pieces of data we gave it. These pieces of data are called **attributes**.\n",
    "\n",
    "To go back to our earlier analogy: the `Student` class is a data structure made of three things: a name, an ID, and a major. A `Student` object is a piece of data following that structure: it has a specific name, specific ID, and specific major.\n",
    "\n",
    "Now, the internal details are *complicated*. You can do *a lot* of things with classes and objects. We'll get into some of those details later in this section, and some of them won't go in this document at all. "
   ]
  },
  {
   "cell_type": "markdown",
   "metadata": {},
   "source": [
    "### Methods <a class=\"anchor\" id=\"2.methods\"></a>\n",
    "We can also define functions that are tied to a class. These are called the class's **methods**. Methods are just like normal functions, except they always have a `self` argument. The `self` argument is always a specific object of that class. Here's an example:"
   ]
  },
  {
   "cell_type": "code",
   "execution_count": 8,
   "metadata": {},
   "outputs": [
    {
     "name": "stdout",
     "output_type": "stream",
     "text": [
      "4166.666666666667\n"
     ]
    }
   ],
   "source": [
    "class Employee:\n",
    "    \n",
    "    # You'll notice that __init__ *also* has a self parameter. This is not a coindicence: __init__ is a method.\n",
    "    def __init__(self, name, number, salary, department):\n",
    "        self.name = name\n",
    "        self.number = number\n",
    "        self.salary = salary\n",
    "        self.department = department\n",
    "        \n",
    "    # This is a method. It determines the monthly salary of an Employee object.\n",
    "    # Yes Employees are objects now. Embrace the alienation.\n",
    "    def monthly_salary(self):\n",
    "        return self.salary / 12\n",
    "\n",
    "employee_1 = Employee(\"John Doe\", 1, 50000, \"Sales\")\n",
    "\n",
    "# Calculate the monthly salary for employee 1.\n",
    "m_salary = employee_1.monthly_salary()\n",
    "print(m_salary)"
   ]
  },
  {
   "cell_type": "markdown",
   "metadata": {},
   "source": [
    "So, you see how `monthly_salary` has one argument (`self`), but we called it without any arguments? That's because methods have an *implicit* argument. We didn't just call `monthly_salary` like a normal function: we called `employee_1.monthly_salary()`. That syntax is actually the same as calling `monthly_salary` with `employee_1` as an argument. Here's how you do that:"
   ]
  },
  {
   "cell_type": "code",
   "execution_count": 11,
   "metadata": {},
   "outputs": [
    {
     "name": "stdout",
     "output_type": "stream",
     "text": [
      "4166.666666666667\n"
     ]
    }
   ],
   "source": [
    "# Note that we *can't* just call monthly_salary(employee_1). \n",
    "# We *need* the `Employee` part at the beginning, because monthly_salary *belongs* to the Employee class.\n",
    "explicit_m_salary = Employee.monthly_salary(employee_1)\n",
    "print(explicit_m_salary)"
   ]
  },
  {
   "cell_type": "markdown",
   "metadata": {},
   "source": [
    "So when we call `employee_1.monthly_salary()`, `employee_1` ends up as the `self` argument.\n",
    "\n",
    "We can also write methods which *modify* the object:"
   ]
  },
  {
   "cell_type": "code",
   "execution_count": 12,
   "metadata": {},
   "outputs": [
    {
     "name": "stdout",
     "output_type": "stream",
     "text": [
      "50000\n",
      "55000\n"
     ]
    }
   ],
   "source": [
    "class Employee:\n",
    "    \n",
    "    # You'll notice that __init__ *also* has a self parameter. This is not a coindicence: __init__ is a method.\n",
    "    def __init__(self, name, number, salary, department):\n",
    "        self.name = name\n",
    "        self.number = number\n",
    "        self.salary = salary\n",
    "        self.department = department\n",
    "        \n",
    "    # This is a method. It determines the monthly salary of an Employee object.\n",
    "    # Yes Employees are objects now. Embrace the alienation.\n",
    "    def monthly_salary(self):\n",
    "        return self.salary / 12\n",
    "    \n",
    "    def give_raise(self, amount):\n",
    "        self.salary += amount\n",
    "        \n",
    "employee_1 = Employee(\"John Doe\", 1, 50000, \"Sales\")\n",
    "# Prints 50000\n",
    "print(employee_1.salary)\n",
    "# Increase John Doe's salary by 5000\n",
    "employee_1.give_raise(5000)\n",
    "# Prings 55000\n",
    "print(employee_1.salary)"
   ]
  },
  {
   "cell_type": "markdown",
   "metadata": {},
   "source": [
    "### Subclasses\n",
    "[Back to top](#objects-and-classes-2)\n",
    "\n",
    "If we have several classes that share some attributes, we can create hierarchies of classes to save ourselves some work. This is called **inheritance**. \n",
    "\n",
    "Let's say we're modeling birds. All birds will have a scientific name and a diet, but only some birds will have a flight speed (because not all birds can fly). `Bird` will be our **superclass** (the most general class), and `FlightedBird` will be our **subclass**."
   ]
  },
  {
   "cell_type": "code",
   "execution_count": 6,
   "metadata": {},
   "outputs": [
    {
     "name": "stdout",
     "output_type": "stream",
     "text": [
      "<class '__main__.Bird'>\n",
      "<class '__main__.FlightedBird'>\n",
      "Falco peregrinus\n",
      "Small and medium sized birds\n"
     ]
    }
   ],
   "source": [
    "class Bird:\n",
    "    \n",
    "    def __init__(self, scientific_name, diet):\n",
    "        # All animals have a name\n",
    "        self.scientific_name = scientific_name\n",
    "        self.diet = diet\n",
    "        \n",
    "\n",
    "# The syntax A(B) means that A is a subclass of B\n",
    "class FlightedBird(Bird):\n",
    "    \n",
    "    def __init__(self, scientific_name, diet, flight_speed):\n",
    "        # Here, we call the __init__ method of *Animal*, the superclass.\n",
    "        # Since Bird needs scientific_name and diet as arguments we pass those\n",
    "        super().__init__(scientific_name, diet)\n",
    "        \n",
    "        # Now we add flight_speed in the normal way\n",
    "        self.flight_speed = flight_speed\n",
    "\n",
    "ostrich = Bird(\"Struthio camelus\", \"Opportunistic forager\")\n",
    "peregrine_falcon = FlightedBird(\"Falco peregrinus\", \"Small and medium sized birds\", \"242 mph\")\n",
    "# This will print something like <class '__main__.Bird'>\n",
    "print(type(ostrich))\n",
    "# This will print something like <class '__main__.FlightedBird'>\n",
    "print(type(peregrine_falcon))\n",
    "\n",
    "# The peregrine falcon has all the attributes of the super class\n",
    "print(peregrine_falcon.scientific_name)\n",
    "print(peregrine_falcon.diet)"
   ]
  },
  {
   "cell_type": "markdown",
   "metadata": {},
   "source": [
    "We say that subclasses **inherit** the attributes of their superclasses. Subclasses also inherit methods:"
   ]
  },
  {
   "cell_type": "code",
   "execution_count": 7,
   "metadata": {},
   "outputs": [
    {
     "name": "stdout",
     "output_type": "stream",
     "text": [
      "David was created by Michelangelo\n"
     ]
    }
   ],
   "source": [
    "class WorkOfArt:\n",
    "    \n",
    "    def __init__(self, name, artist_name):\n",
    "        self.name = name\n",
    "        self.artist_name = artist_name\n",
    "        \n",
    "    def blurb(self):\n",
    "        # I know I haven't introduced this syntax yet.\n",
    "        # You don't need to remember this, but the `format` function\n",
    "        # fills in the `{}` parts with the arguments you give it.\n",
    "        print(\"{} was created by {}\".format(self.name, self.artist_name))\n",
    "        \n",
    "\n",
    "class Statue(WorkOfArt):\n",
    "    \n",
    "    def __init__(self, name, artist_name):\n",
    "        super().__init__(name, artist_name)\n",
    "        # We don't actually need to do anything custom in __init__ with a subclass\n",
    "        # (there are reasons to do this we'll go into later)\n",
    "        \n",
    "david = Statue(\"David\", \"Michelangelo\")\n",
    "\n",
    "david.blurb()"
   ]
  },
  {
   "cell_type": "markdown",
   "metadata": {},
   "source": [
    "### Why Classes and Objects?\n",
    "[Back to top](#objects-and-classes-2)\n",
    "\n",
    "There are actually quite a few reasons to uses classes. They sort of sit at the intersection of a bunch of different design goals.\n",
    "\n",
    "#### 1. Modeling Data\n",
    "First and foremost: classes/objects are a pretty natural way to model data. Usually we *don't* want to store a raw list of numbers or a bunch of strings without any context. In practice we're trying to store data with *named* attributes: users have name, passwords, emails, and settings. Items for sale have a name, images, a description, a price, maybe a list of vendors. An online portfolio has a list of pieces, each of which might have a name, a date, and of course an image of the artwork.\n",
    "\n",
    "Let's take that last example. We have three pieces of data: name (a string), date (a string), and image (some raw image data). We *could* just store that as a list `[name, date, image]`. But that's actually pretty opaque. If you see that data without context you might not know exactly what it's supposed to be. Organizing things in classes makes it clear exactly what something is and what we're supposed to do with it.\n",
    "\n",
    "#### 2. Methods Are Simpler\n",
    "Imagine we *did* just pass around a tuple of data. Let's take the `Employee` example from before. Now an Employee is just a list `[name, id, salary, department]`. How do we write something like the `give_raise` method? We have to do something like:\n",
    "\n",
    "    employee = [name, id, salary, department]\n",
    "    def give_raise(employee_list, amount):\n",
    "        new_salary = employee_list[2] + amount\n",
    "        employee_list[2] = new_salary\n",
    "        return employee_list\n",
    "        \n",
    "    employee = give_raise(employee, 5000)\n",
    "    \n",
    "That's... pretty messy. It gets *much worse* when you have 1000 lines of this, because it's not *nearly* as clear what individual functions or tuples actually are.\n",
    "\n",
    "#### 3. Inheritance Is Nice\n",
    "Continuing with the previous example: how the fuck are we going to handle having multiple kinds of employees? Let's say we have both salaried and hourly employees. The way we calculate their weekly pay is totally different: one requires us to calculate all their hours and multiply that by their rate and the other requires dividing a salary by 52. So, okay, we write one function for each type of employee. But now we have to directly keep track of what kind of employee each piece of data is! We'd have to do something like this:\n",
    "\n",
    "    hourly_1 = [\"John\", 0, 15, \"retail\", \"hourly\"]\n",
    "    hourly_2 = [\"Joan\", 1, 16, \"retail\", \"hourly\"]\n",
    "    salary_1 = [\"Dave\", 2, 50000, \"customer service\", \"salaried\"]\n",
    "    \n",
    "    all_employess = [hourly_1, hourly_2, salary_1]\n",
    "    \n",
    "    for emp in employees:\n",
    "        if emp[4] == \"hourly\":\n",
    "            # call the function to calculate checks for hourly employees\n",
    "        else:\n",
    "            # call the function to calculate checks for salaried employees\n",
    "\n",
    "The alternative with methods and inheritance is just:\n",
    "\n",
    "    for emp in employees:\n",
    "        emp.calculate_check()\n"
   ]
  },
  {
   "cell_type": "markdown",
   "metadata": {},
   "source": [
    "### Review\n",
    "* Classes are user-defined types of data structure\n",
    "* Objects are specific instances of classes\n",
    "* Classes/objects have *attributes* and *methods*"
   ]
  },
  {
   "cell_type": "markdown",
   "metadata": {},
   "source": [
    "### Exercises\n",
    "1. Create a class whose only attribute is a list of integers. Give it a method that prints the sum of all the elements in the list\n",
    "2. Create a Dog class that has `Retriever` and `Shepherd` as subclasses. You can make the attributes whatever you think is appropriate."
   ]
  },
  {
   "cell_type": "markdown",
   "metadata": {},
   "source": [
    "## Data Structures 2 <a class=\"anchor\" id=\"data-structures-2\"></a>\n",
    "[Back to top](#part-2)\n",
    "\n",
    "We're going to introduce two more data structures: **tuples** and **sets**."
   ]
  },
  {
   "cell_type": "markdown",
   "metadata": {},
   "source": [
    "### Tuples <a class=\"anchor\" id=\"2.ds.tuples\"></a>\n",
    "[Back to top](#data-structures-2)\n",
    "\n",
    "A tuple is (more-or-less) a list that you can't change. This is actually extremely useful. As your code gets more complicated it becomes more and more difficult to keep track of what everything is and what it's doing. Being able to *restrict* how data behaves is extremely important."
   ]
  },
  {
   "cell_type": "code",
   "execution_count": 19,
   "metadata": {},
   "outputs": [
    {
     "name": "stdout",
     "output_type": "stream",
     "text": [
      "b\n",
      "(1,) <class 'tuple'>\n",
      "1 <class 'int'>\n"
     ]
    }
   ],
   "source": [
    "# Creating a tuple is just like creating a list, except you use parentheses instead of square brackets\n",
    "x = (\"a\", \"b\", \"c\")\n",
    "\n",
    "# Accessing an element of a tuple. This will print \"b\"\n",
    "print(x[1])\n",
    "\n",
    "# We can make empty tuples:\n",
    "y = ()\n",
    "\n",
    "# Making tuples with *one* element needs an extra comma:\n",
    "# *This* is a tuple\n",
    "z = (1,)\n",
    "# I haven't used this syntax for print before. You can print multiple values by separating them with commas\n",
    "print(z, type(z))\n",
    "# *This* is just a number\n",
    "w = (1)\n",
    "print(w, type(w))"
   ]
  },
  {
   "cell_type": "markdown",
   "metadata": {},
   "source": [
    "Trying to edit a tuple will raise an error:"
   ]
  },
  {
   "cell_type": "code",
   "execution_count": 15,
   "metadata": {},
   "outputs": [
    {
     "ename": "TypeError",
     "evalue": "'tuple' object does not support item assignment",
     "output_type": "error",
     "traceback": [
      "\u001b[0;31m---------------------------------------------------------------------------\u001b[0m",
      "\u001b[0;31mTypeError\u001b[0m                                 Traceback (most recent call last)",
      "\u001b[0;32m<ipython-input-15-08823f751325>\u001b[0m in \u001b[0;36m<module>\u001b[0;34m\u001b[0m\n\u001b[1;32m      1\u001b[0m x \u001b[38;5;241m=\u001b[39m (\u001b[38;5;241m1\u001b[39m, \u001b[38;5;241m2\u001b[39m)\n\u001b[1;32m      2\u001b[0m \u001b[38;5;66m# This line will raise a `TypeError`\u001b[39m\n\u001b[0;32m----> 3\u001b[0m x[\u001b[38;5;241m0\u001b[39m] \u001b[38;5;241m=\u001b[39m \u001b[38;5;241m1\u001b[39m\n",
      "\u001b[0;31mTypeError\u001b[0m: 'tuple' object does not support item assignment"
     ]
    }
   ],
   "source": [
    "x = (1, 2)\n",
    "# This line will raise a `TypeError`\n",
    "x[0] = 1"
   ]
  },
  {
   "cell_type": "markdown",
   "metadata": {},
   "source": [
    "### Sets\n",
    "[Back to top](#data-structures-2)\n",
    "\n",
    "Sets are pretty different from what we've seen so far. They *don't* have an order, so you can't do something like `x[1]` when `x` is a set.\n",
    "\n",
    "Instead, sets let you check for *membership*. It's very easy to find out if a particular piece of data *is* or *isn't* in a set.\n",
    "\n",
    "As an example, let's say you're writing a script to process blog posts. You have a blacklist for tags, and you want to skip all posts with any of the blacklisted tags. This problem is best handled with sets:\n",
    "1. Make a set containing the blacklisted tags\n",
    "2. For each post, make a set of its *actual* tags\n",
    "3. Check if any blacklisted tag is also in the actual tags. If it is, skip that post.\n",
    "\n",
    "I'll show some code for doing this in a bit, but first here are some simple examples:"
   ]
  },
  {
   "cell_type": "code",
   "execution_count": 5,
   "metadata": {},
   "outputs": [
    {
     "name": "stdout",
     "output_type": "stream",
     "text": [
      "{1, 2, 3}\n",
      "{1, 2, 3}\n",
      "True\n",
      "True\n",
      "False\n"
     ]
    }
   ],
   "source": [
    "# Making a set\n",
    "# This looks a lot like making a dictionary, but there's no \":\"\n",
    "# (Remember that dictionaries are made with {1:\"a\", 2: \"b\", 3: \"c\"} syntax.)\n",
    "x = {1, 2, 3}\n",
    "print(x)\n",
    "\n",
    "# Even if we try to put multiple copies in a set, it won't work:\n",
    "y = {1, 2, 2, 2, 3}\n",
    "# This still only prints {1, 2, 3}\n",
    "print(y)\n",
    "\n",
    "# It also doesn't matter what order we give elements to the set:\n",
    "z = {2, 2, 3, 3, 1}\n",
    "# This prints True\n",
    "print(x == z)\n",
    "\n",
    "# Check if an element is in a set\n",
    "# Prints True\n",
    "print(1 in x)\n",
    "# Prints False\n",
    "print(4 in x)"
   ]
  },
  {
   "cell_type": "code",
   "execution_count": 2,
   "metadata": {},
   "outputs": [
    {
     "name": "stdout",
     "output_type": "stream",
     "text": [
      "{2, 3}\n",
      "{1, 2, 3, 4}\n",
      "{1, 2, 3, 4}\n"
     ]
    }
   ],
   "source": [
    "# We can also compare the contents of two sets\n",
    "x = {1, 2, 3}\n",
    "y = {2, 3, 4}\n",
    "\n",
    "# The intersection of two sets is everything in *both* sets.\n",
    "# z is now {2, 3}\n",
    "z = x.intersection(y)\n",
    "print(z)\n",
    "# We can also\n",
    "\n",
    "# The union is everything in *either* set.\n",
    "# w1 is now {1, 2, 3, 4}\n",
    "w1 = x.union(y)\n",
    "print(w1)\n",
    "# We can also take a union with the '|' operator\n",
    "w2 = x | y\n",
    "print(w2)"
   ]
  },
  {
   "cell_type": "markdown",
   "metadata": {},
   "source": [
    "### Making data structures from other structures\n",
    "[Back to top](#data-structures-2)\n",
    "\n",
    "We can directly convert between most of the common data structures, using the functions `list`, `tuple`, `dict`, and `set`. (Note: `list`, `dict`, `tuple`, and `set` are actually *classes*, and when we call them we're actually making new objects of those classes, exactly like calling `Statue('David', 'Michelangelo')`"
   ]
  },
  {
   "cell_type": "code",
   "execution_count": 12,
   "metadata": {},
   "outputs": [
    {
     "name": "stdout",
     "output_type": "stream",
     "text": [
      "Tuples:\n",
      "(1, 2, 3)\n",
      "(1, 2, 3)\n",
      "(1, 2, 3)\n",
      "True\n",
      "\n",
      "Sets:\n",
      "True\n",
      "\n",
      "Lists:\n",
      "True\n",
      "(1, 2, 3)\n",
      "{1, 2, 3}\n"
     ]
    }
   ],
   "source": [
    "starting_list = [1, 2, 3]\n",
    "starting_tuple = (1, 2, 3)\n",
    "starting_set = {1, 2, 3}\n",
    "\n",
    "# Working with lists, tuples, and sets is easy:\n",
    "t_from_l = tuple(starting_list)\n",
    "t_from_s = tuple(starting_set)\n",
    "print(\"Tuples:\")\n",
    "print(t_from_l)\n",
    "print(t_from_s)\n",
    "print(starting_tuple)\n",
    "print(t_from_l == t_from_s == starting_tuple)\n",
    "\n",
    "print(\"\\nSets:\")\n",
    "s_from_l = set(starting_list)\n",
    "s_from_t = set(starting_tuple)\n",
    "# I'm not going to print everything out here. They're all {1, 2, 3}\n",
    "print(s_from_l == s_from_t == starting_set)\n",
    "\n",
    "print(\"\\nLists:\")\n",
    "l_from_t = list(starting_tuple)\n",
    "l_from_s = list(starting_set)\n",
    "# Again, these are all [1, 2, 3]\n",
    "print(l_from_s == l_from_t == starting_list)\n",
    "\n",
    "# Of course you can go back and forth:\n",
    "print(tuple(list(starting_tuple)))\n",
    "print(set(tuple(starting_set)))"
   ]
  },
  {
   "cell_type": "markdown",
   "metadata": {},
   "source": [
    "dicts are weirder, because each entry of a dict has two components. We *can* still use them, but the new data structure will be made from the keys of the dict."
   ]
  },
  {
   "cell_type": "code",
   "execution_count": 22,
   "metadata": {},
   "outputs": [
    {
     "name": "stdout",
     "output_type": "stream",
     "text": [
      "[1, 2, 3]\n",
      "(1, 2, 3)\n",
      "{1, 2, 3}\n",
      "\n",
      "Making dicts\n",
      "{1: 2, 2: 3}\n",
      "{1: 2, 2: 3}\n",
      "{1: 2, 2: 3}\n"
     ]
    }
   ],
   "source": [
    "starting_dict = {1: 'a', 2: 'b', 3: 'c'}\n",
    "\n",
    "print(list(starting_dict))\n",
    "print(tuple(starting_dict))\n",
    "print(set(starting_dict))\n",
    "\n",
    "# We can make dicts from other data structures as well, but you need *nested* data structures to do it:\n",
    "x1 = [[1, 2], [2, 3]]\n",
    "print(\"\\nMaking dicts\")\n",
    "print(dict(x))\n",
    "\n",
    "# The nested data structures *don't* have to have the same type as the top level one.\n",
    "# They don't even need the *same* type\n",
    "x2 = [(1, 2), (2, 3)]\n",
    "# This is still {1: 2, 2:3}\n",
    "print(dict(x2))\n",
    "\n",
    "# Still {1: 2, 2: 3}\n",
    "x3 = [(1, 2), [2, 3]]\n",
    "print(dict(x3))"
   ]
  },
  {
   "cell_type": "markdown",
   "metadata": {},
   "source": [
    "### Review\n",
    "* Sets are unordered data structures without repeats\n",
    "* Tuples are lists that you can't modify"
   ]
  },
  {
   "cell_type": "markdown",
   "metadata": {},
   "source": [
    "### Exercises\n",
    "1. Make a set containing the numbers 1 through 5\n",
    "2. Make a tuple containing the numbers 1 through 5\n",
    "3. Make two variables `x = [1, 2, 3]` and `y = [2, 3, 4]`. Then use the `set()` function and the set operations to get a set containing only the elements in both `x` and `y`."
   ]
  },
  {
   "cell_type": "markdown",
   "metadata": {},
   "source": [
    "# Comprehensions <a class=\"anchor\" id=\"comprehensions-2\"></a>\n",
    "[Back to top](#part-2)\n",
    "\n",
    "Comprehensions are an alternative syntax for creating data structures. Or, rather, we use it to create a new data structure from an old one. Here's an example creating one list from another:"
   ]
  },
  {
   "cell_type": "code",
   "execution_count": 1,
   "metadata": {},
   "outputs": [
    {
     "name": "stdout",
     "output_type": "stream",
     "text": [
      "[2, 3, 4]\n",
      "[2, 3, 4]\n"
     ]
    }
   ],
   "source": [
    "x = [1, 2, 3]\n",
    "\n",
    "# This is the comprehension syntax\n",
    "from_comprehension = [a + 1 for a in x]\n",
    "\n",
    "# We can make something equivalent using a for loop:\n",
    "from_for_loop = []\n",
    "for a in x:\n",
    "    from_for_loop.append(a+1)\n",
    "    \n",
    "print(from_comprehension)\n",
    "print(from_for_loop)"
   ]
  },
  {
   "cell_type": "markdown",
   "metadata": {},
   "source": [
    "This kind of code structure, where we want to take an existing data structure, modify every element, and create a new data structure from the modifications is super common, so comprehensions are a nice shorthand.\n",
    "\n",
    "We can use comprehensions to make lists, tuples, dicts, and sets, and we can make them *from* any of the four data structures."
   ]
  },
  {
   "cell_type": "markdown",
   "metadata": {},
   "source": [
    "### List Comprehensions\n",
    "[Back to top](#comprehensions-2)\n",
    "\n",
    "Fairly self-explanatory, so we'll go straight to examples:"
   ]
  },
  {
   "cell_type": "code",
   "execution_count": 38,
   "metadata": {},
   "outputs": [
    {
     "name": "stdout",
     "output_type": "stream",
     "text": [
      "[(1, 2), (2, 3), (3, 4)]\n"
     ]
    }
   ],
   "source": [
    "starting_list = [1, 2, 3]\n",
    "\n",
    "# List from a list\n",
    "# Here we make a *nested* data structure.\n",
    "l_from_l = [(el, el+1) for el in starting_list]\n",
    "print(l_from_l)"
   ]
  },
  {
   "cell_type": "code",
   "execution_count": 39,
   "metadata": {},
   "outputs": [
    {
     "name": "stdout",
     "output_type": "stream",
     "text": [
      "[7, 8, 9]\n"
     ]
    }
   ],
   "source": [
    "# Making a list from a tuple\n",
    "starting_tuple = (2, 3, 4)\n",
    "l_from_t = [asdf + 5 for asdf in starting_tuple]\n",
    "print(l_from_t)"
   ]
  },
  {
   "cell_type": "code",
   "execution_count": 40,
   "metadata": {},
   "outputs": [
    {
     "name": "stdout",
     "output_type": "stream",
     "text": [
      "[1.0, 0.5, 1.5]\n"
     ]
    }
   ],
   "source": [
    "# Making a list from a set\n",
    "# Here we convert the elements of the set to integers, then divide by two\n",
    "l_from_s = [int(x) / 2 for x in {'1', '2', '3'}]\n",
    "print(l_from_s)"
   ]
  },
  {
   "cell_type": "code",
   "execution_count": 44,
   "metadata": {},
   "outputs": [
    {
     "name": "stdout",
     "output_type": "stream",
     "text": [
      "[1, 2, 3]\n",
      "['a', 'b', 'c']\n",
      "[(1, 'a'), (2, 'b'), (3, 'c')]\n"
     ]
    }
   ],
   "source": [
    "# Making a list from a dictionary\n",
    "starting_dict = {1:'a', 2: 'b', 3: 'c'}\n",
    "\n",
    "# We can make it from the keys by using the dictionary directly:\n",
    "l_from_keys = [k for k in starting_dict]\n",
    "print(l_from_keys)\n",
    "\n",
    "# We can make it from the values by using the 'values' method:\n",
    "l_from_values = [z for z in starting_dict.values()]\n",
    "print(l_from_values)\n",
    "\n",
    "# We can make it from *both* by using the 'items' method. This will make a nested data structure\n",
    "# Each key and value pair will be stored in a tuple:\n",
    "l_from_items = [asdf for asdf in starting_dict.items()]\n",
    "print(l_from_items)"
   ]
  },
  {
   "cell_type": "markdown",
   "metadata": {},
   "source": [
    "### Set Comprehensions\n",
    "[Back to top](#comprehensions-2)\n",
    "\n",
    "Set comprehensions are almost exactly the same as list comprehensions, except we use braces instead of square brackets"
   ]
  },
  {
   "cell_type": "code",
   "execution_count": 45,
   "metadata": {},
   "outputs": [
    {
     "name": "stdout",
     "output_type": "stream",
     "text": [
      "{1, 'a', 3, -10}\n"
     ]
    }
   ],
   "source": [
    "s_from_l = {sdfg for sdfg in [1, 3, -10, 'a']}\n",
    "print(s_from_l)"
   ]
  },
  {
   "cell_type": "markdown",
   "metadata": {},
   "source": [
    "If we make a set from a data structure that contains duplicates, the set removes the duplicates"
   ]
  },
  {
   "cell_type": "code",
   "execution_count": 46,
   "metadata": {},
   "outputs": [
    {
     "name": "stdout",
     "output_type": "stream",
     "text": [
      "{6, 7, 8, 9, 10}\n"
     ]
    }
   ],
   "source": [
    "s_from_t = {el + 5 for el in (1, 2, 2, 3, 4, 5, 5, 5)}\n",
    "print(s_from_t)"
   ]
  },
  {
   "cell_type": "code",
   "execution_count": 35,
   "metadata": {},
   "outputs": [
    {
     "name": "stdout",
     "output_type": "stream",
     "text": [
      "{2, 4, 6}\n",
      "Tuple from list:\n",
      "(1, 2, 3)\n",
      "Dict from list:\n",
      "{1: 2, 2: 3, 3: 4}\n",
      "List from set:\n",
      "Set from tuple\n",
      "List from dict:\n",
      "[1, 2, 3]\n",
      "List from dict values\n",
      "['a', 'b', 'c']\n",
      "List from dict items:\n",
      "[(1, 'a'), (2, 'b'), (3, 'c')]\n"
     ]
    }
   ],
   "source": [
    "# Making things from lists\n",
    "# Also note that there's no need to use 'x' specifically. That's just a convention\n",
    "set_from_list = {asdf*2 for asdf in starting_list}\n",
    "print(set_from_list)\n",
    "\n",
    "\n",
    "# We can make tuples with comprehensions, but the syntax is a little different\n",
    "tuple_from_list = tuple(element for element in starting_list)\n",
    "print(\"Tuple from list:\")\n",
    "print(tuple_from_list)\n",
    "\n",
    "# We can make dicts as well, but the syntax is again a little different because we need to\n",
    "# provide both key and value\n",
    "# Here 'x' is the key and 'x+1' is the value\n",
    "dict_from_list = {x: x+1 for x in starting_list}\n",
    "print(\"Dict from list:\")\n",
    "print(dict_from_list)\n",
    "\n",
    "# The syntax starting from a tuple or a set is exactly the same as for lists\n",
    "print(\"List from set:\")\n",
    "list_from_set = [x * 3 for x in starting_set]\n",
    "print(\"Set from tuple\")\n",
    "set_from_tuple = {y - 2 for y in starting_tuple}\n",
    "\n",
    "\n",
    "# If we start from a dict, we just get the keys:\n",
    "print(\"List from dict:\")\n",
    "print([el for el in starting_dict])\n",
    "\n",
    "# If we want the *values*, we use the values method:\n",
    "print(\"List from dict values\")\n",
    "print([el for el in starting_dict.values()])\n",
    "\n",
    "# If we want *both*, we use the 'items' method. This will give us the elements as (key, value) (tuples)\n",
    "print(\"List from dict items:\")\n",
    "print([el for el in starting_dict.items()])"
   ]
  },
  {
   "cell_type": "markdown",
   "metadata": {},
   "source": [
    "Okay, that's rather a lot. You *don't* need to memorize these. What you *should* do is remember that when you're making a data structure from another, you should try to use comprehensions to do it. You'll memorize the syntax as you go."
   ]
  },
  {
   "cell_type": "markdown",
   "metadata": {},
   "source": [
    "### Review\n",
    "* Comprehensions are a way to build new data structures from old ones\n",
    "* You can build any of the four main data structures (lists, tuples, sets, dictionaries) from any of the other four"
   ]
  },
  {
   "cell_type": "markdown",
   "metadata": {},
   "source": [
    "### Exercises\n",
    "1. Start with `[1, 2, 3]`. Use a comprehension to get the set `{2, 3, 4}`.\n",
    "2. Start with `{1: 'asdf', 2: 'sdfg', 3: 'dfgh'}`. Use a comprehension to get the tuple `(3, 6, 9)`\n",
    "3. Start with `[('John', 1), ('Jane', 2), ('Alice', 3)]`. Use a comprehension to get a list of *just* the names, and another comprehension to get just the numbers"
   ]
  },
  {
   "cell_type": "markdown",
   "metadata": {},
   "source": [
    "## Working With Strings <a class=\"anchor\" id=\"strings-2\"></a>\n",
    "[Back to top](#part-2)\n",
    "\n",
    "A quick section going over some of the most important/common tools for working with strings. This is very much an *introduction*. You can pretty safely assume that any easily describable string processing task has a built in function or library that can do it (e.g. making it lower case, upper case, searching for a complicated pattern, etc.)"
   ]
  },
  {
   "cell_type": "markdown",
   "metadata": {},
   "source": [
    "### Newlines\n",
    "There is a special character for starting a new line in your strings. It's `\\n`. Here's an example:"
   ]
  },
  {
   "cell_type": "code",
   "execution_count": 11,
   "metadata": {},
   "outputs": [
    {
     "name": "stdout",
     "output_type": "stream",
     "text": [
      "First line\n",
      "Second line\n"
     ]
    }
   ],
   "source": [
    "print(\"First line\\nSecond line\")"
   ]
  },
  {
   "cell_type": "markdown",
   "metadata": {},
   "source": [
    "This character is generally called the \"newline\" character."
   ]
  },
  {
   "cell_type": "markdown",
   "metadata": {},
   "source": [
    "### `format`\n",
    "Strings are actually objects. They have methods. The `format` method lets you stick other data inside a string.\n",
    "\n",
    "Let's say you've been tracking your sleep. We want a nice UI that prints out how many hours of sleep you got last night. We might have something like:\n",
    "\n",
    "    hours_of_sleep = sleep_end - sleep_start\n",
    "    print(\"You got ??? hours of sleep last night\")\n",
    "    \n",
    "How do we fill the `???` in correctly? With the format function:"
   ]
  },
  {
   "cell_type": "code",
   "execution_count": 4,
   "metadata": {},
   "outputs": [
    {
     "name": "stdout",
     "output_type": "stream",
     "text": [
      "You got 2 hours of sleep\n"
     ]
    }
   ],
   "source": [
    "hours_of_sleep = 2\n",
    "print(\"You got {} hours of sleep\".format(hours_of_sleep))"
   ]
  },
  {
   "cell_type": "markdown",
   "metadata": {},
   "source": [
    "We can insert multiple variables like this:"
   ]
  },
  {
   "cell_type": "code",
   "execution_count": 5,
   "metadata": {},
   "outputs": [
    {
     "name": "stdout",
     "output_type": "stream",
     "text": [
      "Your salary is 50000. You make 961.5384615384615 per week\n"
     ]
    }
   ],
   "source": [
    "salary = 50000\n",
    "\n",
    "print(\"Your salary is {}. You make {} per week\".format(salary, salary/52))"
   ]
  },
  {
   "cell_type": "markdown",
   "metadata": {},
   "source": [
    "If you run that code, you'll get a really long decimal print out. You can avoid that with this: (you do *not* need to memorize this, even I had to look it up. Just know that's it possible to do):"
   ]
  },
  {
   "cell_type": "code",
   "execution_count": 10,
   "metadata": {},
   "outputs": [
    {
     "name": "stdout",
     "output_type": "stream",
     "text": [
      "Your salary is 50000. You make 961.54 per week\n"
     ]
    }
   ],
   "source": [
    "salary = 50000\n",
    "\n",
    "# The :.2f says \"take only the first two decimals\". Yeah it's a weird syntax. That's why I don't have it memorized.\n",
    "print(\"Your salary is {}. You make {:.2f} per week\".format(salary, salary/52))"
   ]
  },
  {
   "cell_type": "markdown",
   "metadata": {},
   "source": [
    "### `join`\n",
    "The `join` method is a way to build a string from a data structure of other strings.\n",
    "\n",
    "This example puts a newline in between each name:"
   ]
  },
  {
   "cell_type": "code",
   "execution_count": 12,
   "metadata": {},
   "outputs": [
    {
     "name": "stdout",
     "output_type": "stream",
     "text": [
      "Michelangelo\n",
      "John Singer Sargent\n",
      "Albert Bierstadt\n"
     ]
    }
   ],
   "source": [
    "names = [\"Michelangelo\", \"John Singer Sargent\", \"Albert Bierstadt\"]\n",
    "# Counterintuitively, the method is called on the string *doing the joining*, not the strings *being joined*\n",
    "joined = \"\\n\".join(names)\n",
    "print(joined)"
   ]
  },
  {
   "cell_type": "markdown",
   "metadata": {},
   "source": [
    "We could also join strings with the empty string, which just directly sticks them together:"
   ]
  },
  {
   "cell_type": "code",
   "execution_count": 14,
   "metadata": {},
   "outputs": [
    {
     "name": "stdout",
     "output_type": "stream",
     "text": [
      "Hello how are you\n"
     ]
    }
   ],
   "source": [
    "strings = [\"Hello \", \"how \", \"are you\"]\n",
    "print(\"\".join(strings))"
   ]
  },
  {
   "cell_type": "markdown",
   "metadata": {},
   "source": [
    "Notice how I had to put the spaces in the strings themselves. (You generally won't do an empty string join for anything that needs to be human-readable, put it does come up in other contexts, e.g. when you're just trying to get a bunch of data into a file)."
   ]
  },
  {
   "cell_type": "markdown",
   "metadata": {},
   "source": [
    "### `split`\n",
    "`split` is really quite useful: it turns a string into a list by splitting it up on certain characters or substrings.\n",
    "\n",
    "The most common use is splitting a sentence into words:"
   ]
  },
  {
   "cell_type": "code",
   "execution_count": 15,
   "metadata": {},
   "outputs": [
    {
     "name": "stdout",
     "output_type": "stream",
     "text": [
      "['Here', 'is', 'a', 'sentence']\n"
     ]
    }
   ],
   "source": [
    "x = \"Here is a sentence\"\n",
    "just_words = x.split()\n",
    "print(just_words)"
   ]
  },
  {
   "cell_type": "markdown",
   "metadata": {},
   "source": [
    "Another common use case is splitting some data separated by commas:"
   ]
  },
  {
   "cell_type": "code",
   "execution_count": 16,
   "metadata": {},
   "outputs": [
    {
     "name": "stdout",
     "output_type": "stream",
     "text": [
      "['Here is a sentence']\n"
     ]
    }
   ],
   "source": [
    "some_data = \"1,2,Yesterday,None\"\n",
    "# Here we give an argument, which is used as the marker for where to split the string\n",
    "just_data = x.split(\",\")\n",
    "print(just_data)"
   ]
  },
  {
   "cell_type": "markdown",
   "metadata": {},
   "source": [
    "Less common, but we can also split on a more complicated string"
   ]
  },
  {
   "cell_type": "code",
   "execution_count": 18,
   "metadata": {},
   "outputs": [
    {
     "name": "stdout",
     "output_type": "stream",
     "text": [
      "['Here is another sentence.', 'Why would this ever happen?', 'Because some coders are bad.']\n"
     ]
    }
   ],
   "source": [
    "weird_string = \"Here is another sentence.asdfWhy would this ever happen?asdfBecause some coders are bad.\"\n",
    "just_sentences = weird_string.split(\"asdf\")\n",
    "print(just_sentences)"
   ]
  },
  {
   "cell_type": "markdown",
   "metadata": {},
   "source": [
    "### `replace`\n",
    "`replace` does exactly what it sounds like: replaces some substring with another:"
   ]
  },
  {
   "cell_type": "code",
   "execution_count": 19,
   "metadata": {},
   "outputs": [
    {
     "name": "stdout",
     "output_type": "stream",
     "text": [
      "bgdf\n"
     ]
    }
   ],
   "source": [
    "print(\"asdf\".replace(\"as\", \"bg\"))"
   ]
  },
  {
   "cell_type": "markdown",
   "metadata": {},
   "source": [
    "### Review\n",
    "* You can use `format` to put data inside a string\n",
    "* You can use `join` to make a new string from a bunch of smaller strings\n",
    "* You can use `split` to make a bunch of smalled stringers from a big one"
   ]
  },
  {
   "cell_type": "markdown",
   "metadata": {},
   "source": [
    "### Exercises\n",
    "1. Try calling `join` on a list of strings you got from `split`. What happens? (e.g. `' '.join(sentence.split())`)\n",
    "2. Pick a random sentence then split it on \"e\"\n",
    "3. Write a sentence containing your name. Use `replace` to change your first name.\n",
    "4. Write a function that takes a string as an argument, and prints `Hello {string}` using `format`. (To be clear `{string}` means \"replace `{string}` with whatever the string actually is. Don't literally print `{string}`."
   ]
  },
  {
   "cell_type": "markdown",
   "metadata": {},
   "source": [
    "# Basic Engineering (In Progress) <a class=\"anchor\" id=\"part-3\"></a>\n",
    "[Back to top](#top)\n",
    "* [Advice](#googling-3)\n",
    "* [Testing](#testing-3)\n",
    "* [Debugging](#debugging-3)\n",
    "* [Reading Documentation](#docs-3)\n",
    "\n",
    "This is the last general section before we start on specific projects.\n",
    "\n",
    "Note: Totally unfinished."
   ]
  },
  {
   "cell_type": "markdown",
   "metadata": {},
   "source": [
    "## General Advice <a class=\"anchor\" id=\"googling-3\"></a>\n",
    "[Back to top](#part-3)\n",
    "\n",
    "Arguably the most important skill in coding (especially when you're new to it) is being able to search for more information. You *aren't* going to know how to do everything, so you *have* to look things up.\n",
    "\n",
    "Looking things up is genuinely hard. Figuring out how to phrase a search and learning to distinguish useful results from garbage takes a lot of practice.\n",
    "\n",
    "I really don't know how to teach this skill. Maybe it just needs practice. Some useful rules:\n",
    "\n",
    "### Whatever you're trying to do is possible\n",
    "As a rule, there is a way to do the thing you want to do. Assume this is true, and keep trying until you find it. *Don't* give up looking for a solution because you think none exists.\n",
    "\n",
    "As you get better at coding you'll start to learn which things actually are impossible / more trouble than they're worth. Until you get to that point you should err on the side of optimism.\n",
    "\n",
    "### It's not the computer\n",
    "New coders have a strong tendency to think that weird bugs or problems are caused by the computer, or the library, or the language.\n",
    "\n",
    "When you're starting out, you should assume this isn't the case. Assume that whatever's happening is because of *your* code.\n",
    "\n",
    "### Don't stop until you know\n",
    "It's not uncommon for people working on large projects to spend days or weeks figuring out individual bugs.\n",
    "\n",
    "The code you write when you start out won't have any bugs that difficult. But you're also newer coders, so it might still take you hours of guessing and searching and testing to figure out what's really going on.\n",
    "\n",
    "It is *really important* to actually go through with that process if you're trying to learn to code. When you're learning this is way more important than the actual end product. You're learning!\n",
    "\n",
    "As a general guideline, I'd say you should spend up to an hour trying to figure out how to do something (or how to fix something) before you ask for help. (Note that searching the internet for solutions doesn't count as asking for help)."
   ]
  },
  {
   "cell_type": "markdown",
   "metadata": {},
   "source": [
    "## Storing Your Code, Part 2 <a class=\"anchor\" id=\"storing-code-3\"></a>\n",
    "[Back to top](#part-3)\n",
    "\n",
    "Before we move on, we need more sophisticated ways to store and organize code."
   ]
  },
  {
   "cell_type": "markdown",
   "metadata": {},
   "source": [
    "### Subfolders\n",
    "We already went over how to use multiple files together. If you have a folder that looks like:\n",
    "\n",
    "    project_name/\n",
    "        file_1.py\n",
    "        file_2.py\n",
    "\n",
    "Then you can use `file_2.py` in `file_1.py` by just adding the line `import file_1` somewhere.\n",
    "\n",
    "Storing all of your code in one folder is a *bad* idea for large projects though. We can handle that by adding subfolders. Make a directory structure that looks like:\n",
    "\n",
    "    top_level_folder/\n",
    "        file_1.py\n",
    "        subfolder/\n",
    "            file_2.py\n",
    "\n",
    "You can use `file_2.py` in `file_1.py` by adding the line `from subfolder import file_2`. If you had multiple layers of subfolders (less common but still happens), you would do `from subfolder.subsubfolder import file_2`."
   ]
  },
  {
   "cell_type": "markdown",
   "metadata": {},
   "source": [
    "### `__init__.py`\n",
    "If you have a subfolder with a bunch of files in it, you can gather them all together with an `__init__.py` file. Let's say we have something like this:\n",
    "\n",
    "    project_folder/\n",
    "        file_1.py\n",
    "        some_subfolder/\n",
    "             __init__.py\n",
    "             sub_file_1.py\n",
    "             sub_file_2.py\n",
    "\n",
    "Using the previous method, you would need to use `from some_subfolder import sub_file_1, sub_file_2` in order to use those. But if you gather up the most important parts of `sub_file_1` and `sub_file_2` and put them in `__init__` as well, you can use the line `import some_subfolder` instead.\n",
    "\n",
    "Here's a concrete example to show how you \"put\" things in `__init__`. You should follow along and actually make these files."
   ]
  },
  {
   "cell_type": "markdown",
   "metadata": {},
   "source": [
    "First, make a top level folder. This can be whatever you want, just don't put spaces in the name. Then put a folder in it. The name can be whatever you want, just no spaces. If there are spaces then python can't import it because objects in python can't have spaces in their names. So if the subfolder was named `folder name` you couldn't write `import folder name` or `from folder name import sub_file_1`. That'll give you a syntax error (try it!)\n",
    "\n",
    "I'm going to use `some_subfolder` as the name, just substitute whatever you name it."
   ]
  },
  {
   "cell_type": "markdown",
   "metadata": {},
   "source": [
    "Next make a file called `__init__.py` inside `some_subfolder`. The name here *is* important. Python will look *specifically* for a file named `__init__.py` when it imports the subfolder.\n",
    "\n",
    "Now make two python files inside `some_subfolder`. I'm going to call them `sub_file_1.py` and `sub_file_2.py`, but again you can call them whatever as long as there's no spaces.\n",
    "\n",
    "Lastly, make one file in the *top* level folder. I'm going to call it `file_1.py`, you can call it whatever."
   ]
  },
  {
   "cell_type": "markdown",
   "metadata": {},
   "source": [
    "#### `sub_file_1.py`\n",
    "Okay, in this file put\n",
    "\n",
    "    def did_i_import_things_correctly():\n",
    "        print(\"Yes!\")\n",
    "        \n",
    "    def hidden_function():\n",
    "        print(\"You can't get this function without directly importing the file\")"
   ]
  },
  {
   "cell_type": "markdown",
   "metadata": {},
   "source": [
    "#### `sub_file_2.py`\n",
    "\n",
    "In this file put:\n",
    "\n",
    "    can_you_also_import_variables = \"Yes\"\n",
    "    this_variable_will_be_private = \"Yeah it's private\""
   ]
  },
  {
   "cell_type": "markdown",
   "metadata": {},
   "source": [
    "#### `__init__.py`\n",
    "Okay, now we're going to make *some* of those things available at the folder level. Put this in `__init__`:\n",
    "\n",
    "    from sub_file_1 import did_i_import_things_correctly\n",
    "    from sub_file_2 import can_you_also_import_variables\n",
    "    \n",
    "    # You can also define values directly in __init__\n",
    "    \n",
    "    def init_only_function():\n",
    "        print(\"This function is only in __init__\")\n",
    "        \n",
    "    init_only_var = 1\n",
    "    \n",
    "What's actually happening here? When you run `import sub_folder`, Python looks for the `__init__.py` file and it makes *everything* inside `__init__.py` available in an object called `sub_folder`."
   ]
  },
  {
   "cell_type": "markdown",
   "metadata": {},
   "source": [
    "#### `file_1.py`\n",
    "Okay, now we're actually going to use those:\n",
    "\n",
    "    import sub_folder\n",
    "    # This will print \"Yes!\"\n",
    "    sub_folder.did_i_import_things_correctly()\n",
    "    # This will print \"Yes\"\n",
    "    print(sub_folder.can_you_also_import_variables)\n",
    "    \n",
    "    ## Now we test the things defined in __init__\n",
    "    \n",
    "    # This will print \"This function is only in __init__\"\n",
    "    sub_folder.init_only_function()\n",
    "    \n",
    "    # This will print 1\n",
    "    print(sub_folder.init_only_var)"
   ]
  },
  {
   "cell_type": "markdown",
   "metadata": {},
   "source": [
    "#### Exercise 1\n",
    "\n",
    "Okay, so what about `hidden_function` and `this_variable_will_be_private`?\n",
    "\n",
    "Open up a terminal and navigate to the top level folder. Run Python, then run `import sub_folder`. Now try running `sub_folder.hidden_function()`. Also try print `sub_folder.this_variable_will_be_private`.\n",
    "\n",
    "You should get two errors. Specifically `AttributeError`s, because the `sub_folder` object doesn't have any attributes called `hidden_function` or `this_variable_will_be_private`.\n",
    "\n",
    "The reason for this is that `__init__.py` *doesn't* automatically make everything in the folder available. You have to *specifically put things in it*."
   ]
  },
  {
   "cell_type": "markdown",
   "metadata": {},
   "source": [
    "#### Exercise 2\n",
    "\n",
    "Okay, so how *do* you use `hidden_function` or `this_variable_will_be_private`? Well, you can still use the old `from` syntax. Try this in the terminal:\n",
    "\n",
    "    from sub_folder import sub_file_1\n",
    "    sub_file_1.hidden_function()\n",
    "Now try the same for `sub_file_2`."
   ]
  },
  {
   "cell_type": "markdown",
   "metadata": {},
   "source": [
    "### Extra Import Syntax\n",
    "[Back to top](#storing-code-3)\n",
    "\n",
    "Just a quick section on other ways to import things. The examples I give will mostly be for local files and folders, but these work just as well for packages you've installed from other places."
   ]
  },
  {
   "cell_type": "markdown",
   "metadata": {},
   "source": [
    "#### Import `*`\n",
    "You can import *everything* in a file, folder, or library using the following syntax:\n",
    "\n",
    "    from file import *\n",
    "    from folder import *\n",
    "When you do this you *don't* get an object named `file` or `folder`. Instead it directly imports the variables in the file (if you imported a file) or in `__init__.py` (if you imported a folder).\n",
    "\n",
    "Note: import * is generally *very bad practice*. Basically the only place it's *commonly* used is in `__init__.py`, if you want to save yourself from importing *everything*."
   ]
  },
  {
   "cell_type": "markdown",
   "metadata": {},
   "source": [
    "#### Exercise 2\n",
    "That's probably not very clear. Using the previous files we made, try:\n",
    "* `from sub_folder import *`\n",
    "* `from sub_folder.sub_file_1 import *`\n",
    "Mess around with it. What happens if you run `sub_folder.init_only_function()`? What happens if you just try running `init_only_function`?"
   ]
  },
  {
   "cell_type": "markdown",
   "metadata": {},
   "source": [
    "#### Import as\n",
    "Sometimes the name something has is inconvenient. Import as syntax lets you rename it:\n",
    "\n",
    "    import sub_folder as sf\n",
    "\n",
    "You can do everything you could do with `sub_folder`, except you use `sf.` instead of `sub_folder.`\n",
    "\n",
    "This is *super* convenient if the thing you're importing has a long name, or if the name of `sub_folder` happens to overlap with the name of something in your file."
   ]
  },
  {
   "cell_type": "markdown",
   "metadata": {},
   "source": [
    "### Making Your Own Packages\n",
    "[Back to top](#storing-code-3)\n",
    "\n",
    "Okay, now we get to a major jump: making your *own* package and installing it. Note that this does *not* include making a package and *publishing* it so that other people can use it.\n",
    "\n",
    "If you install a package with `pip`, you can use it anywhere. If you just write some code and put it in a folder, you can only use it *within that folder*.\n",
    "\n",
    "If you want to be able to use your code anywhere on your computer, you have to turn it into a package and then install it. This is actually super easy to do, although it can get incredibly complicated."
   ]
  },
  {
   "cell_type": "markdown",
   "metadata": {},
   "source": [
    "#### `setup.py`\n",
    "The easiest way to make a package is to make a file called `setup.py` in your project folder.\n",
    "Inside this file, put something like:\n",
    "\n",
    "    from setuptools import setup\n",
    "    \n",
    "    setup(\n",
    "        name='Name of your package',\n",
    "        version=0.1,\n",
    "        packages=['folder_containing_your_code']\n",
    "    )\n",
    "\n",
    "`setuptools` is a built in Python library for doing this type of thing. The `setup` function will handle all the details of installing the package.\n",
    "\n",
    "Note that _only_ the code inside `folder_containing_your_code` will actually be included in the package.\n",
    "\n",
    "Because of this, a common project structure is:\n",
    "\n",
    "    project_folder/\n",
    "        code_folder/\n",
    "            submodule_1/\n",
    "            submodule_2/\n",
    "            __init__.py\n",
    "            some_code.py\n",
    "            some_more_code.py\n",
    "        setup.py\n",
    "        ...random other files...\n"
   ]
  },
  {
   "cell_type": "markdown",
   "metadata": {},
   "source": [
    "#### Installing the package\n",
    "To install your code as a package, you just run `pip install path/to/your/project`. `pip` will automatically look for the `setup.py` file, and then run it. (You could also call the file with python directly, e.g. `python setup.py`, but that's a little more brittle).\n",
    "\n",
    "As a general rule if you're installing a package you're _currently working on_, you should install run `pip install -e path/to/your/project`. The `-e` option will install the code in \"edit\" mode, meaning it will update as you edit your code. If you don't use this then it creates a copy of your code at the time you installed it, and you have to reinstall it every time you make changes."
   ]
  },
  {
   "cell_type": "markdown",
   "metadata": {},
   "source": [
    "#### Importing the package\n",
    "Once you've installed it, you can just import it normally. _However_, there's a caveat. Let's say your folder structure is:\n",
    "\n",
    "    my_project/\n",
    "        my_code/\n",
    "        setup.py\n",
    "\n",
    "and your `setup.py` looks like:\n",
    "\n",
    "    from setuptools import setup\n",
    "    \n",
    "    setup(\n",
    "        name='my_project',\n",
    "        version=0.1,\n",
    "        packages=['my_code']\n",
    "    )\n",
    "\n",
    "Then to import the package you use `import my_code`, _not_ `import my_project`. I have **no** idea why they did it this way, but they did. It uses the name of the _code_ folder, not the overall project folder. For this reason it's very common to set things up like:\n",
    "\n",
    "    my_project/\n",
    "        my_project/\n",
    "        setup.py\n",
    "\n",
    "That way you can import `my_project`, like you expect."
   ]
  },
  {
   "cell_type": "markdown",
   "metadata": {},
   "source": [
    "## Testing <a class=\"anchor\" id=\"testing-3\"></a>\n",
    "[Back to top](#part-3)\n",
    "\n",
    "**Testing** is when you run your code on some pre-specified input, and then check that it behaves the way you think it does.\n",
    "\n",
    "You *must* test your code. Coding is hard and you are going to make *lots* of mistakes. The need for testing is *especially* high if you don't have other people checking your code.\n",
    "\n",
    "Generally the way testing works is that you write *another* piece of code (the test) that checks how *your* code works, and then you run the test every time you change your code."
   ]
  },
  {
   "cell_type": "markdown",
   "metadata": {},
   "source": [
    "As a simple (and not practical example), here's some code I care about:"
   ]
  },
  {
   "cell_type": "code",
   "execution_count": 2,
   "metadata": {},
   "outputs": [],
   "source": [
    "def add_values(a, b):\n",
    "    return a + b"
   ]
  },
  {
   "cell_type": "markdown",
   "metadata": {},
   "source": [
    "Now, this case is so simple that you wouldn't usually test it (or write it). But if we _did_ want to test it, our test might look like:"
   ]
  },
  {
   "cell_type": "code",
   "execution_count": 3,
   "metadata": {},
   "outputs": [],
   "source": [
    "def test_add_values():\n",
    "    x = add_values(2, 2)\n",
    "    assert x == 4\n",
    "    x = add_values(-4, 5)\n",
    "    assert 1 == x\n",
    "    # Or we could use a slightly different syntax\n",
    "    assert 3 == add_values(0, 3)"
   ]
  },
  {
   "cell_type": "markdown",
   "metadata": {},
   "source": [
    "`assert` will take an expression, and raise an exception if it's not `True`. For instance:"
   ]
  },
  {
   "cell_type": "code",
   "execution_count": 1,
   "metadata": {},
   "outputs": [
    {
     "ename": "AssertionError",
     "evalue": "",
     "output_type": "error",
     "traceback": [
      "\u001b[0;31m---------------------------------------------------------------------------\u001b[0m",
      "\u001b[0;31mAssertionError\u001b[0m                            Traceback (most recent call last)",
      "\u001b[0;32m<ipython-input-1-a871fdc9ebee>\u001b[0m in \u001b[0;36m<module>\u001b[0;34m\u001b[0m\n\u001b[0;32m----> 1\u001b[0;31m \u001b[0;32massert\u001b[0m \u001b[0;32mFalse\u001b[0m\u001b[0;34m\u001b[0m\u001b[0;34m\u001b[0m\u001b[0m\n\u001b[0m",
      "\u001b[0;31mAssertionError\u001b[0m: "
     ]
    }
   ],
   "source": [
    "assert False"
   ]
  },
  {
   "cell_type": "markdown",
   "metadata": {},
   "source": [
    "### Exercises\n",
    "1. Our `test_add_values` only checks a very small subset of all possible inputs. How might we mitigate this problem?"
   ]
  },
  {
   "cell_type": "markdown",
   "metadata": {},
   "source": [
    "## Debugging <a class=\"anchor\" id=\"debugging-3\"></a>\n",
    "[Back to top](#part-3)\n",
    "Debugging is the process of figuring out exactly where and why your code went wrong."
   ]
  },
  {
   "cell_type": "markdown",
   "metadata": {},
   "source": [
    "### `pdb`\n",
    "`pdb` is the built in Python debugger. It's a tool that lets you stop a program while it's running and see what's going on."
   ]
  },
  {
   "cell_type": "code",
   "execution_count": 3,
   "metadata": {},
   "outputs": [
    {
     "name": "stdout",
     "output_type": "stream",
     "text": [
      "--Call--\n",
      "> \u001b[0;32m/home/vincent/software/python/lib/python3.8/site-packages/IPython/core/displayhook.py\u001b[0m(252)\u001b[0;36m__call__\u001b[0;34m()\u001b[0m\n",
      "\u001b[0;32m    250 \u001b[0;31m        \u001b[0msys\u001b[0m\u001b[0;34m.\u001b[0m\u001b[0mstdout\u001b[0m\u001b[0;34m.\u001b[0m\u001b[0mflush\u001b[0m\u001b[0;34m(\u001b[0m\u001b[0;34m)\u001b[0m\u001b[0;34m\u001b[0m\u001b[0;34m\u001b[0m\u001b[0m\n",
      "\u001b[0m\u001b[0;32m    251 \u001b[0;31m\u001b[0;34m\u001b[0m\u001b[0m\n",
      "\u001b[0m\u001b[0;32m--> 252 \u001b[0;31m    \u001b[0;32mdef\u001b[0m \u001b[0m__call__\u001b[0m\u001b[0;34m(\u001b[0m\u001b[0mself\u001b[0m\u001b[0;34m,\u001b[0m \u001b[0mresult\u001b[0m\u001b[0;34m=\u001b[0m\u001b[0;32mNone\u001b[0m\u001b[0;34m)\u001b[0m\u001b[0;34m:\u001b[0m\u001b[0;34m\u001b[0m\u001b[0;34m\u001b[0m\u001b[0m\n",
      "\u001b[0m\u001b[0;32m    253 \u001b[0;31m        \"\"\"Printing with history cache management.\n",
      "\u001b[0m\u001b[0;32m    254 \u001b[0;31m\u001b[0;34m\u001b[0m\u001b[0m\n",
      "\u001b[0m\n",
      "ipdb> quit()\n"
     ]
    },
    {
     "ename": "BdbQuit",
     "evalue": "",
     "output_type": "error",
     "traceback": [
      "\u001b[0;31m---------------------------------------------------------------------------\u001b[0m",
      "\u001b[0;31mBdbQuit\u001b[0m                                   Traceback (most recent call last)",
      "\u001b[0;32m<ipython-input-3-4deed448bd37>\u001b[0m in \u001b[0;36m<module>\u001b[0;34m\u001b[0m\n\u001b[1;32m      6\u001b[0m \u001b[0mx\u001b[0m \u001b[0;34m=\u001b[0m \u001b[0;36m1\u001b[0m\u001b[0;34m\u001b[0m\u001b[0;34m\u001b[0m\u001b[0m\n\u001b[1;32m      7\u001b[0m \u001b[0;31m# When the program gets to this line, it will stop and give you a Python terminal.\u001b[0m\u001b[0;34m\u001b[0m\u001b[0;34m\u001b[0m\u001b[0;34m\u001b[0m\u001b[0m\n\u001b[0;32m----> 8\u001b[0;31m \u001b[0mpdb\u001b[0m\u001b[0;34m.\u001b[0m\u001b[0mset_trace\u001b[0m\u001b[0;34m(\u001b[0m\u001b[0;34m)\u001b[0m\u001b[0;34m\u001b[0m\u001b[0;34m\u001b[0m\u001b[0m\n\u001b[0m",
      "\u001b[0;32m~/software/python/lib/python3.8/site-packages/IPython/core/displayhook.py\u001b[0m in \u001b[0;36m__call__\u001b[0;34m(self, result)\u001b[0m\n\u001b[1;32m    250\u001b[0m         \u001b[0msys\u001b[0m\u001b[0;34m.\u001b[0m\u001b[0mstdout\u001b[0m\u001b[0;34m.\u001b[0m\u001b[0mflush\u001b[0m\u001b[0;34m(\u001b[0m\u001b[0;34m)\u001b[0m\u001b[0;34m\u001b[0m\u001b[0;34m\u001b[0m\u001b[0m\n\u001b[1;32m    251\u001b[0m \u001b[0;34m\u001b[0m\u001b[0m\n\u001b[0;32m--> 252\u001b[0;31m     \u001b[0;32mdef\u001b[0m \u001b[0m__call__\u001b[0m\u001b[0;34m(\u001b[0m\u001b[0mself\u001b[0m\u001b[0;34m,\u001b[0m \u001b[0mresult\u001b[0m\u001b[0;34m=\u001b[0m\u001b[0;32mNone\u001b[0m\u001b[0;34m)\u001b[0m\u001b[0;34m:\u001b[0m\u001b[0;34m\u001b[0m\u001b[0;34m\u001b[0m\u001b[0m\n\u001b[0m\u001b[1;32m    253\u001b[0m         \"\"\"Printing with history cache management.\n\u001b[1;32m    254\u001b[0m \u001b[0;34m\u001b[0m\u001b[0m\n",
      "\u001b[0;32m~/software/python/lib/python3.8/bdb.py\u001b[0m in \u001b[0;36mtrace_dispatch\u001b[0;34m(self, frame, event, arg)\u001b[0m\n\u001b[1;32m     88\u001b[0m             \u001b[0;32mreturn\u001b[0m \u001b[0mself\u001b[0m\u001b[0;34m.\u001b[0m\u001b[0mdispatch_line\u001b[0m\u001b[0;34m(\u001b[0m\u001b[0mframe\u001b[0m\u001b[0;34m)\u001b[0m\u001b[0;34m\u001b[0m\u001b[0;34m\u001b[0m\u001b[0m\n\u001b[1;32m     89\u001b[0m         \u001b[0;32mif\u001b[0m \u001b[0mevent\u001b[0m \u001b[0;34m==\u001b[0m \u001b[0;34m'call'\u001b[0m\u001b[0;34m:\u001b[0m\u001b[0;34m\u001b[0m\u001b[0;34m\u001b[0m\u001b[0m\n\u001b[0;32m---> 90\u001b[0;31m             \u001b[0;32mreturn\u001b[0m \u001b[0mself\u001b[0m\u001b[0;34m.\u001b[0m\u001b[0mdispatch_call\u001b[0m\u001b[0;34m(\u001b[0m\u001b[0mframe\u001b[0m\u001b[0;34m,\u001b[0m \u001b[0marg\u001b[0m\u001b[0;34m)\u001b[0m\u001b[0;34m\u001b[0m\u001b[0;34m\u001b[0m\u001b[0m\n\u001b[0m\u001b[1;32m     91\u001b[0m         \u001b[0;32mif\u001b[0m \u001b[0mevent\u001b[0m \u001b[0;34m==\u001b[0m \u001b[0;34m'return'\u001b[0m\u001b[0;34m:\u001b[0m\u001b[0;34m\u001b[0m\u001b[0;34m\u001b[0m\u001b[0m\n\u001b[1;32m     92\u001b[0m             \u001b[0;32mreturn\u001b[0m \u001b[0mself\u001b[0m\u001b[0;34m.\u001b[0m\u001b[0mdispatch_return\u001b[0m\u001b[0;34m(\u001b[0m\u001b[0mframe\u001b[0m\u001b[0;34m,\u001b[0m \u001b[0marg\u001b[0m\u001b[0;34m)\u001b[0m\u001b[0;34m\u001b[0m\u001b[0;34m\u001b[0m\u001b[0m\n",
      "\u001b[0;32m~/software/python/lib/python3.8/bdb.py\u001b[0m in \u001b[0;36mdispatch_call\u001b[0;34m(self, frame, arg)\u001b[0m\n\u001b[1;32m    133\u001b[0m             \u001b[0;32mreturn\u001b[0m \u001b[0mself\u001b[0m\u001b[0;34m.\u001b[0m\u001b[0mtrace_dispatch\u001b[0m\u001b[0;34m\u001b[0m\u001b[0;34m\u001b[0m\u001b[0m\n\u001b[1;32m    134\u001b[0m         \u001b[0mself\u001b[0m\u001b[0;34m.\u001b[0m\u001b[0muser_call\u001b[0m\u001b[0;34m(\u001b[0m\u001b[0mframe\u001b[0m\u001b[0;34m,\u001b[0m \u001b[0marg\u001b[0m\u001b[0;34m)\u001b[0m\u001b[0;34m\u001b[0m\u001b[0;34m\u001b[0m\u001b[0m\n\u001b[0;32m--> 135\u001b[0;31m         \u001b[0;32mif\u001b[0m \u001b[0mself\u001b[0m\u001b[0;34m.\u001b[0m\u001b[0mquitting\u001b[0m\u001b[0;34m:\u001b[0m \u001b[0;32mraise\u001b[0m \u001b[0mBdbQuit\u001b[0m\u001b[0;34m\u001b[0m\u001b[0;34m\u001b[0m\u001b[0m\n\u001b[0m\u001b[1;32m    136\u001b[0m         \u001b[0;32mreturn\u001b[0m \u001b[0mself\u001b[0m\u001b[0;34m.\u001b[0m\u001b[0mtrace_dispatch\u001b[0m\u001b[0;34m\u001b[0m\u001b[0;34m\u001b[0m\u001b[0m\n\u001b[1;32m    137\u001b[0m \u001b[0;34m\u001b[0m\u001b[0m\n",
      "\u001b[0;31mBdbQuit\u001b[0m: "
     ]
    }
   ],
   "source": [
    "# This code won't work well in Jupyter.\n",
    "\n",
    "# Import the pdb library\n",
    "import pdb\n",
    "\n",
    "x = 1\n",
    "# When the program gets to this line, it will stop and give you a Python terminal.\n",
    "# This is called a \"breakpoint\"\n",
    "pdb.set_trace()"
   ]
  },
  {
   "cell_type": "markdown",
   "metadata": {},
   "source": [
    "The basic commands inside of `pdb` are:\n",
    "* `n`: Execute the next step\n",
    "* `c`: Continue execution until the end of the program, or the next breakpoint\n",
    "* `p some_variable`: Prints out the value of `some_variable`. You can also do more complicated things like `p some_variable + 2` or `p some_function(some_variable)`\n",
    "* `!some_statement`: Executes some statement. For instance `!x = 1` will set the value of `x` to 1."
   ]
  },
  {
   "cell_type": "markdown",
   "metadata": {},
   "source": [
    "It's also possible to enter the debugger without setting an explicit breakpoint. If you run your code with `python -m pdb file.py` then you'll get a debugger right away.\n",
    "\n",
    "From here you type `c` to start the program. It will run to the end, *or* until it hits an Exception. This is especially useful for running a program that has an Exception in a place that's hard to put a breakpoint (e.g. inside a loop, or in a third-party library)."
   ]
  },
  {
   "cell_type": "markdown",
   "metadata": {},
   "source": [
    "### Exercises\n",
    "* Run any python program using `-m pdb`\n",
    "* Set a breakpoint in any python program, and run it."
   ]
  },
  {
   "cell_type": "markdown",
   "metadata": {},
   "source": [
    "## Reading Documentation <a class=\"anchor\" id=\"docs-3\"></a>\n",
    "[Back to top](#part-3)"
   ]
  },
  {
   "cell_type": "markdown",
   "metadata": {},
   "source": [
    "### Stack Overflow\n",
    "Stack Overflow is a website for asking and answering questions. Like Quora, but it doesn't suck. As a general rule if you have a bug "
   ]
  },
  {
   "cell_type": "markdown",
   "metadata": {},
   "source": [
    "# Unsorted\n",
    "Sections that I know need to exist, but haven't figured out how to fit them in yet. Don't bother going through these yet unless you're feeling curious."
   ]
  },
  {
   "cell_type": "markdown",
   "metadata": {},
   "source": [
    "## Advanced Classes and Objects"
   ]
  },
  {
   "cell_type": "markdown",
   "metadata": {},
   "source": [
    "### Class Attributes\n",
    "\n",
    "Imagine we want an attribute to be the same for every object of a class."
   ]
  },
  {
   "cell_type": "markdown",
   "metadata": {},
   "source": [
    "### Class Methods"
   ]
  },
  {
   "cell_type": "markdown",
   "metadata": {},
   "source": [
    "### Assigning new attributes <a class=\"anchor\" id=\"2.objects.assigning-new-attributes\"></a>\n",
    "\n",
    "If you have an object, you can give it *new* attributes outside of the `__init__` function. For example:"
   ]
  },
  {
   "cell_type": "code",
   "execution_count": 10,
   "metadata": {},
   "outputs": [
    {
     "name": "stdout",
     "output_type": "stream",
     "text": [
      "1\n",
      "John Doe\n"
     ]
    }
   ],
   "source": [
    "class A:\n",
    "    \n",
    "    def __init__(self, a):\n",
    "        self.a = a\n",
    "\n",
    "simple_obj = A(1)\n",
    "# This prints 1\n",
    "print(simple_obj.a)\n",
    "\n",
    "# Assigning a new attribute to simple_obj\n",
    "simple_obj.name = \"John Doe\"\n",
    "# This prints 'John Doe'\n",
    "print(simple_obj.name)"
   ]
  },
  {
   "cell_type": "markdown",
   "metadata": {},
   "source": [
    "Note that assigning an attribute in this way *only* assigns it to the specific object, *not* to every object of that class:"
   ]
  },
  {
   "cell_type": "code",
   "execution_count": 15,
   "metadata": {},
   "outputs": [
    {
     "name": "stdout",
     "output_type": "stream",
     "text": [
      "1\n",
      "John Doe\n"
     ]
    },
    {
     "ename": "AttributeError",
     "evalue": "'A' object has no attribute 'name'",
     "output_type": "error",
     "traceback": [
      "\u001b[0;31m---------------------------------------------------------------------------\u001b[0m",
      "\u001b[0;31mAttributeError\u001b[0m                            Traceback (most recent call last)",
      "\u001b[0;32m<ipython-input-15-ff296d94edd0>\u001b[0m in \u001b[0;36m<module>\u001b[0;34m\u001b[0m\n\u001b[1;32m     14\u001b[0m \u001b[38;5;28mprint\u001b[39m(simple_obj\u001b[38;5;241m.\u001b[39mname)\n\u001b[1;32m     16\u001b[0m \u001b[38;5;66m# This will raise an AttributeError, because second_obj doesn't *have* a name attribute\u001b[39m\n\u001b[0;32m---> 17\u001b[0m \u001b[38;5;28mprint\u001b[39m(\u001b[48;5;17msecond_obj\u001b[49m\u001b[38;5;241;48;5;17m.\u001b[39;49m\u001b[48;5;17mname\u001b[49m)\n",
      "\u001b[0;31mAttributeError\u001b[0m: 'A' object has no attribute 'name'"
     ]
    }
   ],
   "source": [
    "class A:\n",
    "    \n",
    "    def __init__(self, a):\n",
    "        self.a = a\n",
    "\n",
    "simple_obj = A(1)\n",
    "second_obj = A(2)\n",
    "# This prints 1\n",
    "print(simple_obj.a)\n",
    "\n",
    "# Assigning a new attribute to simple_obj\n",
    "simple_obj.name = \"John Doe\"\n",
    "# This prints 'John Doe'\n",
    "print(simple_obj.name)\n",
    "\n",
    "# This will raise an AttributeError, because second_obj doesn't *have* a name attribute\n",
    "print(second_obj.name)"
   ]
  },
  {
   "cell_type": "markdown",
   "metadata": {},
   "source": [
    "### Classes without `__init__` <a class=\"anchor\" id=\"2.objects.no-init\"></a>\n",
    "[Back to top](#part-2)\n",
    "\n",
    "Here is our first good example of the `pass` statement. Using `pass`, we can make a class that doesn't even have an `__init__` method:"
   ]
  },
  {
   "cell_type": "code",
   "execution_count": 13,
   "metadata": {},
   "outputs": [
    {
     "name": "stdout",
     "output_type": "stream",
     "text": [
      "<__main__.A object at 0x7efd48582908>\n",
      "1\n"
     ]
    }
   ],
   "source": [
    "class A:\n",
    "    pass\n",
    "\n",
    "# This works fine.\n",
    "a = A()\n",
    "# This will print out something like <__main__.A object at [complicated number]>\n",
    "# (The complicated number is where the a variable is located in your computer's memory)\n",
    "# (That's not actually important to know though)\n",
    "print(a)\n",
    "\n",
    "# We can still assign attributes to a\n",
    "a.attribute = 1\n",
    "print(a.attribute)"
   ]
  },
  {
   "cell_type": "markdown",
   "metadata": {},
   "source": [
    "We can also create a class with no `__init__` method that still has other methods:"
   ]
  },
  {
   "cell_type": "code",
   "execution_count": 17,
   "metadata": {},
   "outputs": [
    {
     "name": "stdout",
     "output_type": "stream",
     "text": [
      "Hello!\n"
     ]
    }
   ],
   "source": [
    "class A:\n",
    "    \n",
    "    def say_hello(self):\n",
    "        print(\"Hello!\")\n",
    "\n",
    "a = A()\n",
    "# This will print 'Hello!'\n",
    "a.say_hello()"
   ]
  },
  {
   "cell_type": "markdown",
   "metadata": {},
   "source": [
    "### What's `__init__` doing? <a class=\"anchor\" id=\"2.objects.how-init\"></a>\n",
    "[Back to top](#part-2)\n",
    "\n",
    "Note: I'm not sure about this section. Does it make things more or less confusing?\n",
    "\n",
    "So, clearly we *don't* need the `__init__` method to actually make an object. So what does `__init__` do?\n",
    "\n",
    "Well, it does exactly what it looks like it's doing. It assigns attributes to an *existing* object. When you call `Student(\"John Doe\", 1, \"Art history\")` to make a `Student` object, here's what actually happens:\n",
    "\n",
    "1. Python creates a *blank* `Student` object with no attributes.\n",
    "2. *If* there is an `__init__` method, then that method gets called. The blank `Student` object is the `self` argument, and the three argument *you* passed `(\"John Doe\", 1, \"Art history\")` are the other three argument to `__init__`\n",
    "3. Inside the `__init__` method, we assign some new attributes to the `self` object. `self.name = name` is doing the exact same thing as `a.attribute = 1` in the previous section.\n",
    "4. After `__init__` is finished, Python gives you the `self` object.\n",
    "5. If there *isn't* an `__init__` method, Python just hands you the blank object.\n",
    "\n",
    "In fact, `__init__` can work with *any* object you pass as `self`, even if it's not the right class! Here's an example:"
   ]
  },
  {
   "cell_type": "code",
   "execution_count": 13,
   "metadata": {},
   "outputs": [
    {
     "name": "stdout",
     "output_type": "stream",
     "text": [
      "This is an A\n",
      "This is a B\n"
     ]
    }
   ],
   "source": [
    "class A:\n",
    "    \n",
    "    def __init__(self):\n",
    "        self.is_a = True\n",
    "        \n",
    "    def check_class_name(self):\n",
    "        print(\"This is an A\")\n",
    "\n",
    "        \n",
    "class B:\n",
    "    \n",
    "    def __init__(self, name, number):\n",
    "        self.name = name\n",
    "        self.number = number\n",
    "    \n",
    "    def check_class_name(self):\n",
    "        print(\"This is a B\")\n",
    "        \n",
    "a = A()\n",
    "# This will print \"This is an A\", as you would expect\n",
    "a.check_class_name()\n",
    "\n",
    "b = B(\"Dave\", 1)\n",
    "# This will print \"This is a B\", as you would expect\n",
    "b.check_class_name()"
   ]
  },
  {
   "cell_type": "markdown",
   "metadata": {},
   "source": [
    "Now comes the weird part. We're going to call the `__init__` of class *B* with an object of class *A*. This won't break! Python will happily work this this!"
   ]
  },
  {
   "cell_type": "code",
   "execution_count": 15,
   "metadata": {},
   "outputs": [
    {
     "name": "stdout",
     "output_type": "stream",
     "text": [
      "Dave\n",
      "2\n",
      "This is an A\n"
     ]
    }
   ],
   "source": [
    "B.__init__(a, \"Dave\", 2)\n",
    "# Prints \"Dave\"\n",
    "print(a.name)\n",
    "# Prints 2\n",
    "print(a.number)\n",
    "\n",
    "# However a is *still* an A. Passing it to __init__ *didn't* change its class.\n",
    "# This will still print \"This is an A\"\n",
    "a.check_class_name()"
   ]
  },
  {
   "cell_type": "markdown",
   "metadata": {},
   "source": [
    "### Everything is an object\n",
    "[Back to top](#part-2)\n",
    "\n",
    "Note: Possibly this should go in part 2 of objects and classes\n",
    "\n",
    "You might have noticed that the syntax we use for calling a method is the same as the syntax for calling an imported function: `employee_1.monthly_salary()` vs `arrow.now()`. That's not a coincidence. When you import a module, what Python actually does is create an object of the `module` class, and then it lets you use that object.\n",
    "\n",
    "In fact, basically everything in Python is an object. You can see this using the `type` function:"
   ]
  },
  {
   "cell_type": "code",
   "execution_count": 2,
   "metadata": {},
   "outputs": [
    {
     "name": "stdout",
     "output_type": "stream",
     "text": [
      "<class 'list'>\n"
     ]
    }
   ],
   "source": [
    "x = [1,2,3]\n",
    "type_x = type(x)\n",
    "# This will print <class 'list'>\n",
    "print(type_x)"
   ]
  },
  {
   "cell_type": "markdown",
   "metadata": {},
   "source": [
    "### Exercises\n",
    "* Write a class representing dogs. A dog should have a name, a breed, and an age. Then create a Dog object whose name is Chestnut, breed is \"unknown\", and age is 7.\n",
    "* Add an attribute called `has_been_pet_recently` to the Dog class, then add a method call `pet` that updates the attribute.\n",
    "* Add another method called `is_good`. It should always return `True`."
   ]
  },
  {
   "cell_type": "markdown",
   "metadata": {},
   "source": [
    "## Advanced Iterators"
   ]
  },
  {
   "cell_type": "markdown",
   "metadata": {},
   "source": [
    "# Big List of Topics That Need to Be Covered\n",
    "* Common iterators / itertools\n",
    "* Customer iterators\n",
    "* Regexes\n",
    "* map, filter, reduce\n",
    "* class methods, class attributes, static methods\n",
    "* Lambda functions\n",
    "* Keyword arguments\n",
    "* `*args` and `**kwargs`\n",
    "* Everything is a dictionary\n",
    "* Profiling\n",
    "* Overwriting methods\n",
    "* Abstract methods"
   ]
  },
  {
   "cell_type": "code",
   "execution_count": null,
   "metadata": {},
   "outputs": [],
   "source": []
  }
 ],
 "metadata": {
  "kernelspec": {
   "display_name": "Python 3",
   "language": "python",
   "name": "python3"
  },
  "language_info": {
   "codemirror_mode": {
    "name": "ipython",
    "version": 3
   },
   "file_extension": ".py",
   "mimetype": "text/x-python",
   "name": "python",
   "nbconvert_exporter": "python",
   "pygments_lexer": "ipython3",
   "version": "3.8.5"
  }
 },
 "nbformat": 4,
 "nbformat_minor": 1
}
